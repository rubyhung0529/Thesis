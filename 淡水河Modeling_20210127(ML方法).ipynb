{
  "nbformat": 4,
  "nbformat_minor": 0,
  "metadata": {
    "colab": {
      "name": "淡水河Modeling_20210127(ML方法).ipynb",
      "provenance": [],
      "collapsed_sections": [],
      "include_colab_link": true
    },
    "kernelspec": {
      "name": "python3",
      "display_name": "Python 3"
    }
  },
  "cells": [
    {
      "cell_type": "markdown",
      "metadata": {
        "id": "view-in-github",
        "colab_type": "text"
      },
      "source": [
        "<a href=\"https://colab.research.google.com/github/rubyhung0529/Thesis/blob/main/%E6%B7%A1%E6%B0%B4%E6%B2%B3Modeling_20210127(ML%E6%96%B9%E6%B3%95).ipynb\" target=\"_parent\"><img src=\"https://colab.research.google.com/assets/colab-badge.svg\" alt=\"Open In Colab\"/></a>"
      ]
    },
    {
      "cell_type": "code",
      "metadata": {
        "id": "xAb3ec7kTjGP",
        "colab": {
          "base_uri": "https://localhost:8080/"
        },
        "outputId": "2481b487-ff6e-43ed-e8a2-d8ae0183d768"
      },
      "source": [
        "from google.colab import drive\n",
        "import pandas as pd\n",
        "import numpy as np\n",
        "import numpy as np\n",
        "from tqdm import tqdm_notebook as tqdm\n",
        "pd.options.display.float_format = '{:.4f}'.format#評分分數不要科學記號,到小數點後三位\n",
        "seed = 11\n",
        "np.random.seed(seed)\n",
        "drive.mount('/content/drive')"
      ],
      "execution_count": 1,
      "outputs": [
        {
          "output_type": "stream",
          "text": [
            "Drive already mounted at /content/drive; to attempt to forcibly remount, call drive.mount(\"/content/drive\", force_remount=True).\n"
          ],
          "name": "stdout"
        }
      ]
    },
    {
      "cell_type": "code",
      "metadata": {
        "id": "QuBrkIJxS6Ar",
        "colab": {
          "base_uri": "https://localhost:8080/",
          "height": 635
        },
        "outputId": "d51dbfa9-466b-42be-b2f9-86e20adbef93"
      },
      "source": [
        "full = pd.read_csv('/content/drive/My Drive/碩士論文資料/淡水河流域_cleaned(full).csv').sort_values(by='採樣日期')\n",
        "full = pd.DataFrame(full)\n",
        "print(full.shape)\n",
        "full.head()"
      ],
      "execution_count": 2,
      "outputs": [
        {
          "output_type": "stream",
          "text": [
            "(2239, 24)\n"
          ],
          "name": "stdout"
        },
        {
          "output_type": "execute_result",
          "data": {
            "text/html": [
              "<div>\n",
              "<style scoped>\n",
              "    .dataframe tbody tr th:only-of-type {\n",
              "        vertical-align: middle;\n",
              "    }\n",
              "\n",
              "    .dataframe tbody tr th {\n",
              "        vertical-align: top;\n",
              "    }\n",
              "\n",
              "    .dataframe thead th {\n",
              "        text-align: right;\n",
              "    }\n",
              "</style>\n",
              "<table border=\"1\" class=\"dataframe\">\n",
              "  <thead>\n",
              "    <tr style=\"text-align: right;\">\n",
              "      <th></th>\n",
              "      <th>測站名稱</th>\n",
              "      <th>採樣日期</th>\n",
              "      <th>河川污染指數</th>\n",
              "      <th>氣溫</th>\n",
              "      <th>水溫</th>\n",
              "      <th>酸鹼值</th>\n",
              "      <th>導電度</th>\n",
              "      <th>溶氧(電極法)</th>\n",
              "      <th>溶氧飽和度</th>\n",
              "      <th>生化需氧量</th>\n",
              "      <th>化學需氧量</th>\n",
              "      <th>懸浮固體</th>\n",
              "      <th>大腸桿菌群</th>\n",
              "      <th>氨氮</th>\n",
              "      <th>總磷</th>\n",
              "      <th>硝酸鹽氮</th>\n",
              "      <th>鎘</th>\n",
              "      <th>鉛</th>\n",
              "      <th>六價鉻</th>\n",
              "      <th>砷</th>\n",
              "      <th>汞</th>\n",
              "      <th>銅</th>\n",
              "      <th>鋅</th>\n",
              "      <th>錳</th>\n",
              "    </tr>\n",
              "  </thead>\n",
              "  <tbody>\n",
              "    <tr>\n",
              "      <th>998</th>\n",
              "      <td>板新取水口</td>\n",
              "      <td>2005-03-01 01:30:00</td>\n",
              "      <td>2.3000</td>\n",
              "      <td>13.2000</td>\n",
              "      <td>14.1000</td>\n",
              "      <td>8.1000</td>\n",
              "      <td>247.0000</td>\n",
              "      <td>10.0000</td>\n",
              "      <td>97.5000</td>\n",
              "      <td>1.0000</td>\n",
              "      <td>5.5000</td>\n",
              "      <td>54.3000</td>\n",
              "      <td>4200.0000</td>\n",
              "      <td>0.1100</td>\n",
              "      <td>0.0270</td>\n",
              "      <td>0.5400</td>\n",
              "      <td>0.0010</td>\n",
              "      <td>0.0330</td>\n",
              "      <td>0.0060</td>\n",
              "      <td>0.0012</td>\n",
              "      <td>0.0005</td>\n",
              "      <td>0.0050</td>\n",
              "      <td>0.0210</td>\n",
              "      <td>0.1220</td>\n",
              "    </tr>\n",
              "    <tr>\n",
              "      <th>921</th>\n",
              "      <td>暖江橋</td>\n",
              "      <td>2005-03-01 01:44:00</td>\n",
              "      <td>1.5000</td>\n",
              "      <td>17.5000</td>\n",
              "      <td>16.4000</td>\n",
              "      <td>6.6000</td>\n",
              "      <td>144.0000</td>\n",
              "      <td>10.8000</td>\n",
              "      <td>109.8000</td>\n",
              "      <td>2.0000</td>\n",
              "      <td>6.6000</td>\n",
              "      <td>42.1000</td>\n",
              "      <td>17000.0000</td>\n",
              "      <td>0.3500</td>\n",
              "      <td>0.0160</td>\n",
              "      <td>0.7600</td>\n",
              "      <td>0.0010</td>\n",
              "      <td>0.0120</td>\n",
              "      <td>0.0060</td>\n",
              "      <td>0.0014</td>\n",
              "      <td>0.0005</td>\n",
              "      <td>0.0050</td>\n",
              "      <td>0.0790</td>\n",
              "      <td>0.0790</td>\n",
              "    </tr>\n",
              "    <tr>\n",
              "      <th>1001</th>\n",
              "      <td>三鶯大橋</td>\n",
              "      <td>2005-03-01 02:20:00</td>\n",
              "      <td>2.3000</td>\n",
              "      <td>13.0000</td>\n",
              "      <td>14.9000</td>\n",
              "      <td>8.0000</td>\n",
              "      <td>201.0000</td>\n",
              "      <td>10.0000</td>\n",
              "      <td>99.5000</td>\n",
              "      <td>1.0000</td>\n",
              "      <td>4.8000</td>\n",
              "      <td>58.9000</td>\n",
              "      <td>2200.0000</td>\n",
              "      <td>0.0800</td>\n",
              "      <td>0.0140</td>\n",
              "      <td>0.5200</td>\n",
              "      <td>0.0010</td>\n",
              "      <td>0.0140</td>\n",
              "      <td>0.0040</td>\n",
              "      <td>0.0009</td>\n",
              "      <td>0.0003</td>\n",
              "      <td>0.0050</td>\n",
              "      <td>0.0300</td>\n",
              "      <td>0.1190</td>\n",
              "    </tr>\n",
              "    <tr>\n",
              "      <th>924</th>\n",
              "      <td>六合橋</td>\n",
              "      <td>2005-03-01 02:36:00</td>\n",
              "      <td>2.3000</td>\n",
              "      <td>16.5000</td>\n",
              "      <td>15.9000</td>\n",
              "      <td>6.4000</td>\n",
              "      <td>266.0000</td>\n",
              "      <td>10.0000</td>\n",
              "      <td>100.9000</td>\n",
              "      <td>2.3000</td>\n",
              "      <td>11.6000</td>\n",
              "      <td>92.2000</td>\n",
              "      <td>43000.0000</td>\n",
              "      <td>0.3600</td>\n",
              "      <td>0.0190</td>\n",
              "      <td>0.9700</td>\n",
              "      <td>0.0010</td>\n",
              "      <td>0.0170</td>\n",
              "      <td>0.0030</td>\n",
              "      <td>0.0010</td>\n",
              "      <td>0.0013</td>\n",
              "      <td>0.0090</td>\n",
              "      <td>0.0610</td>\n",
              "      <td>0.1390</td>\n",
              "    </tr>\n",
              "    <tr>\n",
              "      <th>987</th>\n",
              "      <td>三峽河抽水站(取代醒心橋)</td>\n",
              "      <td>2005-03-01 03:10:00</td>\n",
              "      <td>1.0000</td>\n",
              "      <td>12.5000</td>\n",
              "      <td>14.4000</td>\n",
              "      <td>7.5000</td>\n",
              "      <td>113.0000</td>\n",
              "      <td>10.1000</td>\n",
              "      <td>98.9000</td>\n",
              "      <td>1.0000</td>\n",
              "      <td>5.6000</td>\n",
              "      <td>16.6000</td>\n",
              "      <td>2400.0000</td>\n",
              "      <td>0.0800</td>\n",
              "      <td>0.0140</td>\n",
              "      <td>1.1400</td>\n",
              "      <td>0.0010</td>\n",
              "      <td>0.0100</td>\n",
              "      <td>0.0070</td>\n",
              "      <td>0.0013</td>\n",
              "      <td>0.0011</td>\n",
              "      <td>0.0030</td>\n",
              "      <td>0.0290</td>\n",
              "      <td>0.0420</td>\n",
              "    </tr>\n",
              "  </tbody>\n",
              "</table>\n",
              "</div>"
            ],
            "text/plain": [
              "               測站名稱                 採樣日期  河川污染指數  ...      銅      鋅      錳\n",
              "998           板新取水口  2005-03-01 01:30:00  2.3000  ... 0.0050 0.0210 0.1220\n",
              "921             暖江橋  2005-03-01 01:44:00  1.5000  ... 0.0050 0.0790 0.0790\n",
              "1001           三鶯大橋  2005-03-01 02:20:00  2.3000  ... 0.0050 0.0300 0.1190\n",
              "924             六合橋  2005-03-01 02:36:00  2.3000  ... 0.0090 0.0610 0.1390\n",
              "987   三峽河抽水站(取代醒心橋)  2005-03-01 03:10:00  1.0000  ... 0.0030 0.0290 0.0420\n",
              "\n",
              "[5 rows x 24 columns]"
            ]
          },
          "metadata": {
            "tags": []
          },
          "execution_count": 2
        }
      ]
    },
    {
      "cell_type": "markdown",
      "metadata": {
        "id": "-vjIG29fdHHZ"
      },
      "source": [
        "# define X,y"
      ]
    },
    {
      "cell_type": "code",
      "metadata": {
        "id": "AsQ_YYGXWVnX",
        "colab": {
          "base_uri": "https://localhost:8080/"
        },
        "outputId": "41c6e62b-551a-4dfd-ef81-197a7e84f31c"
      },
      "source": [
        "col = full.columns.tolist()\r\n",
        "x_col = col[2:12]\r\n",
        "y_col = ['大腸桿菌群','氨氮','總磷','砷','錳']\r\n",
        "x_col,y_col"
      ],
      "execution_count": 3,
      "outputs": [
        {
          "output_type": "execute_result",
          "data": {
            "text/plain": [
              "(['河川污染指數',\n",
              "  '氣溫',\n",
              "  '水溫',\n",
              "  '酸鹼值',\n",
              "  '導電度',\n",
              "  '溶氧(電極法)',\n",
              "  '溶氧飽和度',\n",
              "  '生化需氧量',\n",
              "  '化學需氧量',\n",
              "  '懸浮固體'],\n",
              " ['大腸桿菌群', '氨氮', '總磷', '砷', '錳'])"
            ]
          },
          "metadata": {
            "tags": []
          },
          "execution_count": 3
        }
      ]
    },
    {
      "cell_type": "markdown",
      "metadata": {
        "id": "fl5pGgylUSKZ"
      },
      "source": [
        "# scaled"
      ]
    },
    {
      "cell_type": "code",
      "metadata": {
        "id": "S8URGkBETvcb",
        "colab": {
          "base_uri": "https://localhost:8080/",
          "height": 618
        },
        "outputId": "78b2f518-b671-42a5-f4c6-e70a1bb1806a"
      },
      "source": [
        "from sklearn.preprocessing import StandardScaler\n",
        "ss_x = StandardScaler()\n",
        "ss_y = StandardScaler()\n",
        "full[x_col] = ss_x.fit_transform(full[x_col])\n",
        "full[y_col] = ss_y.fit_transform(full[y_col])\n",
        "full.head()"
      ],
      "execution_count": 4,
      "outputs": [
        {
          "output_type": "execute_result",
          "data": {
            "text/html": [
              "<div>\n",
              "<style scoped>\n",
              "    .dataframe tbody tr th:only-of-type {\n",
              "        vertical-align: middle;\n",
              "    }\n",
              "\n",
              "    .dataframe tbody tr th {\n",
              "        vertical-align: top;\n",
              "    }\n",
              "\n",
              "    .dataframe thead th {\n",
              "        text-align: right;\n",
              "    }\n",
              "</style>\n",
              "<table border=\"1\" class=\"dataframe\">\n",
              "  <thead>\n",
              "    <tr style=\"text-align: right;\">\n",
              "      <th></th>\n",
              "      <th>測站名稱</th>\n",
              "      <th>採樣日期</th>\n",
              "      <th>河川污染指數</th>\n",
              "      <th>氣溫</th>\n",
              "      <th>水溫</th>\n",
              "      <th>酸鹼值</th>\n",
              "      <th>導電度</th>\n",
              "      <th>溶氧(電極法)</th>\n",
              "      <th>溶氧飽和度</th>\n",
              "      <th>生化需氧量</th>\n",
              "      <th>化學需氧量</th>\n",
              "      <th>懸浮固體</th>\n",
              "      <th>大腸桿菌群</th>\n",
              "      <th>氨氮</th>\n",
              "      <th>總磷</th>\n",
              "      <th>硝酸鹽氮</th>\n",
              "      <th>鎘</th>\n",
              "      <th>鉛</th>\n",
              "      <th>六價鉻</th>\n",
              "      <th>砷</th>\n",
              "      <th>汞</th>\n",
              "      <th>銅</th>\n",
              "      <th>鋅</th>\n",
              "      <th>錳</th>\n",
              "    </tr>\n",
              "  </thead>\n",
              "  <tbody>\n",
              "    <tr>\n",
              "      <th>998</th>\n",
              "      <td>板新取水口</td>\n",
              "      <td>2005-03-01 01:30:00</td>\n",
              "      <td>-0.2499</td>\n",
              "      <td>-1.8174</td>\n",
              "      <td>-1.8293</td>\n",
              "      <td>1.3239</td>\n",
              "      <td>-0.2048</td>\n",
              "      <td>1.0956</td>\n",
              "      <td>0.5661</td>\n",
              "      <td>-0.4758</td>\n",
              "      <td>-0.4337</td>\n",
              "      <td>-0.0255</td>\n",
              "      <td>-0.2295</td>\n",
              "      <td>-0.6466</td>\n",
              "      <td>-0.6323</td>\n",
              "      <td>0.5400</td>\n",
              "      <td>0.0010</td>\n",
              "      <td>0.0330</td>\n",
              "      <td>0.0060</td>\n",
              "      <td>-0.0082</td>\n",
              "      <td>0.0005</td>\n",
              "      <td>0.0050</td>\n",
              "      <td>0.0210</td>\n",
              "      <td>0.1103</td>\n",
              "    </tr>\n",
              "    <tr>\n",
              "      <th>921</th>\n",
              "      <td>暖江橋</td>\n",
              "      <td>2005-03-01 01:44:00</td>\n",
              "      <td>-0.6494</td>\n",
              "      <td>-1.1234</td>\n",
              "      <td>-1.3416</td>\n",
              "      <td>-2.2729</td>\n",
              "      <td>-0.2246</td>\n",
              "      <td>1.3649</td>\n",
              "      <td>0.9272</td>\n",
              "      <td>-0.2630</td>\n",
              "      <td>-0.3640</td>\n",
              "      <td>-0.0472</td>\n",
              "      <td>-0.2123</td>\n",
              "      <td>-0.5181</td>\n",
              "      <td>-0.6686</td>\n",
              "      <td>0.7600</td>\n",
              "      <td>0.0010</td>\n",
              "      <td>0.0120</td>\n",
              "      <td>0.0060</td>\n",
              "      <td>0.0964</td>\n",
              "      <td>0.0005</td>\n",
              "      <td>0.0050</td>\n",
              "      <td>0.0790</td>\n",
              "      <td>-0.0480</td>\n",
              "    </tr>\n",
              "    <tr>\n",
              "      <th>1001</th>\n",
              "      <td>三鶯大橋</td>\n",
              "      <td>2005-03-01 02:20:00</td>\n",
              "      <td>-0.2499</td>\n",
              "      <td>-1.8497</td>\n",
              "      <td>-1.6596</td>\n",
              "      <td>1.0841</td>\n",
              "      <td>-0.2137</td>\n",
              "      <td>1.0956</td>\n",
              "      <td>0.6248</td>\n",
              "      <td>-0.4758</td>\n",
              "      <td>-0.4780</td>\n",
              "      <td>-0.0173</td>\n",
              "      <td>-0.2322</td>\n",
              "      <td>-0.6627</td>\n",
              "      <td>-0.6752</td>\n",
              "      <td>0.5200</td>\n",
              "      <td>0.0010</td>\n",
              "      <td>0.0140</td>\n",
              "      <td>0.0040</td>\n",
              "      <td>-0.1652</td>\n",
              "      <td>0.0003</td>\n",
              "      <td>0.0050</td>\n",
              "      <td>0.0300</td>\n",
              "      <td>0.0992</td>\n",
              "    </tr>\n",
              "    <tr>\n",
              "      <th>924</th>\n",
              "      <td>六合橋</td>\n",
              "      <td>2005-03-01 02:36:00</td>\n",
              "      <td>-0.2499</td>\n",
              "      <td>-1.2848</td>\n",
              "      <td>-1.4476</td>\n",
              "      <td>-2.7525</td>\n",
              "      <td>-0.2011</td>\n",
              "      <td>1.0956</td>\n",
              "      <td>0.6659</td>\n",
              "      <td>-0.1992</td>\n",
              "      <td>-0.0473</td>\n",
              "      <td>0.0418</td>\n",
              "      <td>-0.1773</td>\n",
              "      <td>-0.5127</td>\n",
              "      <td>-0.6587</td>\n",
              "      <td>0.9700</td>\n",
              "      <td>0.0010</td>\n",
              "      <td>0.0170</td>\n",
              "      <td>0.0030</td>\n",
              "      <td>-0.1129</td>\n",
              "      <td>0.0013</td>\n",
              "      <td>0.0090</td>\n",
              "      <td>0.0610</td>\n",
              "      <td>0.1729</td>\n",
              "    </tr>\n",
              "    <tr>\n",
              "      <th>987</th>\n",
              "      <td>三峽河抽水站(取代醒心橋)</td>\n",
              "      <td>2005-03-01 03:10:00</td>\n",
              "      <td>-0.8991</td>\n",
              "      <td>-1.9304</td>\n",
              "      <td>-1.7657</td>\n",
              "      <td>-0.1148</td>\n",
              "      <td>-0.2306</td>\n",
              "      <td>1.1292</td>\n",
              "      <td>0.6072</td>\n",
              "      <td>-0.4758</td>\n",
              "      <td>-0.4273</td>\n",
              "      <td>-0.0925</td>\n",
              "      <td>-0.2319</td>\n",
              "      <td>-0.6627</td>\n",
              "      <td>-0.6752</td>\n",
              "      <td>1.1400</td>\n",
              "      <td>0.0010</td>\n",
              "      <td>0.0100</td>\n",
              "      <td>0.0070</td>\n",
              "      <td>0.0441</td>\n",
              "      <td>0.0011</td>\n",
              "      <td>0.0030</td>\n",
              "      <td>0.0290</td>\n",
              "      <td>-0.1842</td>\n",
              "    </tr>\n",
              "  </tbody>\n",
              "</table>\n",
              "</div>"
            ],
            "text/plain": [
              "               測站名稱                 採樣日期  河川污染指數  ...      銅      鋅       錳\n",
              "998           板新取水口  2005-03-01 01:30:00 -0.2499  ... 0.0050 0.0210  0.1103\n",
              "921             暖江橋  2005-03-01 01:44:00 -0.6494  ... 0.0050 0.0790 -0.0480\n",
              "1001           三鶯大橋  2005-03-01 02:20:00 -0.2499  ... 0.0050 0.0300  0.0992\n",
              "924             六合橋  2005-03-01 02:36:00 -0.2499  ... 0.0090 0.0610  0.1729\n",
              "987   三峽河抽水站(取代醒心橋)  2005-03-01 03:10:00 -0.8991  ... 0.0030 0.0290 -0.1842\n",
              "\n",
              "[5 rows x 24 columns]"
            ]
          },
          "metadata": {
            "tags": []
          },
          "execution_count": 4
        }
      ]
    },
    {
      "cell_type": "markdown",
      "metadata": {
        "id": "4cFcT55pesMa"
      },
      "source": [
        "# prepare data and forward test"
      ]
    },
    {
      "cell_type": "code",
      "metadata": {
        "colab": {
          "base_uri": "https://localhost:8080/"
        },
        "id": "_lvklaA6esUT",
        "outputId": "1c2c2564-65d5-42a7-a163-90e99c5e7410"
      },
      "source": [
        "def create_inout_sequences(input_data,t):\r\n",
        "  x = []\r\n",
        "  y = []\r\n",
        "  for i in range(len(input_data)-t):\r\n",
        "    x.append(input_data.iloc[i:i+t][x_col+y_col].values)\r\n",
        "    y.append(input_data.iloc[[i+t]][y_col].values)\r\n",
        "    #y.append(input_data.iloc[[i+t-1]][y_col].values)\r\n",
        "  return np.array(x),np.array(y)\r\n",
        "\r\n",
        "X,Y = create_inout_sequences(full,t=3)\r\n",
        "X.shape,Y.shape"
      ],
      "execution_count": 5,
      "outputs": [
        {
          "output_type": "execute_result",
          "data": {
            "text/plain": [
              "((2236, 3, 15), (2236, 1, 5))"
            ]
          },
          "metadata": {
            "tags": []
          },
          "execution_count": 5
        }
      ]
    },
    {
      "cell_type": "markdown",
      "metadata": {
        "id": "7RnD_CczVWnJ"
      },
      "source": [
        "# modeling"
      ]
    },
    {
      "cell_type": "code",
      "metadata": {
        "id": "vfHMOiO_VYH_"
      },
      "source": [
        "def fit_and_return_predction(model,X,y):\n",
        "  '''\n",
        "  0. flatten data\n",
        "  1. split data\n",
        "  2. fit on train\n",
        "  3. store prediction\n",
        "  4. return prediction\n",
        "  '''\n",
        "  \n",
        "  # 0 flatten\n",
        "  batch_size = X.shape[0]\n",
        "  X = X.reshape(batch_size,-1)\n",
        "  y = y.reshape(batch_size,-1)\n",
        "\n",
        "  # 1 split data train,test\n",
        "  sp = int(len(X)*0.8)\n",
        "  X_train = X[:sp]\n",
        "  y_train = y[:sp]\n",
        "  X_test = X[sp:]\n",
        "  y_test = y[sp:]\n",
        "  \n",
        "  # 2. fit model on train data\n",
        "  model.fit(X_train,y_train)\n",
        "  \n",
        "  # 3. store prediction to result dict\n",
        "  result = {}\n",
        "\n",
        "  # predict \n",
        "  result['train_pred'] = pd.DataFrame(deepcopy(y_train),columns=y_col)\n",
        "  result['test_pred'] = pd.DataFrame(deepcopy(y_test),columns=y_col)\n",
        "  result['train_pred'][:] = pd.DataFrame(model.predict(X_train),columns=y_col)\n",
        "  result['test_pred'][:] = pd.DataFrame(model.predict(X_test),columns=y_col)\n",
        "  \n",
        "  # add real data\n",
        "  result['X_train'] = deepcopy(X_train)\n",
        "  result['y_train'] = pd.DataFrame(deepcopy(y_train),columns=y_col)\n",
        "  result['X_test'] = deepcopy(X_test)\n",
        "  result['y_test'] = pd.DataFrame(deepcopy(y_test),columns=y_col)\n",
        "  \n",
        "  #4. return prediction\n",
        "  return result"
      ],
      "execution_count": 6,
      "outputs": []
    },
    {
      "cell_type": "code",
      "metadata": {
        "id": "7SMzHgaOZDNG",
        "colab": {
          "base_uri": "https://localhost:8080/"
        },
        "outputId": "cdb07422-bb45-4b57-c224-ab0b27287328"
      },
      "source": [
        "from sklearn.linear_model import LinearRegression\n",
        "from sklearn.ensemble import RandomForestRegressor\n",
        "from sklearn.multioutput import MultiOutputRegressor\n",
        "from sklearn.metrics import r2_score,mean_squared_error,mean_absolute_error\n",
        "from copy import deepcopy\n",
        "import joblib\n",
        "\n",
        "LR_model = MultiOutputRegressor(LinearRegression())\n",
        "RF_model = MultiOutputRegressor(RandomForestRegressor(max_depth=5,n_estimators=200))\n",
        "\n",
        "LR_result = fit_and_return_predction(LR_model,X,Y)\n",
        "RF_result = fit_and_return_predction(RF_model,X,Y)\n",
        "\n",
        "# save for plotting\n",
        "plot_data = {}\n",
        "plot_data['LR'] = LR_result\n",
        "plot_data['RF'] = RF_result\n",
        "save_path = '/content/drive/My Drive/碩士論文資料/plot_data.pkl'\n",
        "joblib.dump(plot_data,save_path)"
      ],
      "execution_count": 7,
      "outputs": [
        {
          "output_type": "execute_result",
          "data": {
            "text/plain": [
              "['/content/drive/My Drive/碩士論文資料/plot_data.pkl']"
            ]
          },
          "metadata": {
            "tags": []
          },
          "execution_count": 7
        }
      ]
    },
    {
      "cell_type": "markdown",
      "metadata": {
        "id": "uv8grFYwamLD"
      },
      "source": [
        "# metric"
      ]
    },
    {
      "cell_type": "code",
      "metadata": {
        "id": "SWUVaCwsam-6"
      },
      "source": [
        "from math import sqrt\n",
        "def MAPE(a, b): \n",
        "    a = np.array(a)\n",
        "    b = np.array(b)\n",
        "    mask = a != 0\n",
        "    return abs((np.fabs(a - b)/a)[mask].mean()*100)\n",
        "\n",
        "def metric(y_pred,y_real):\n",
        "  score = pd.DataFrame(index=['大腸桿菌群','氨氮','總磷','砷','錳'],columns=['R2','MSE','MAPE'])\n",
        "  for i in ['大腸桿菌群','氨氮','總磷','砷','錳']:\n",
        "    score.loc[i,'R2'] = max(round(r2_score(y_real[i],y_pred[i]),4),0)\n",
        "    score.loc[i,'MSE'] = round(mean_squared_error(y_real[i],y_pred[i]),4)\n",
        "    score.loc[i,'MAPE'] = round(MAPE(y_real[i],y_pred[i]),4)\n",
        "  score.loc['AVG'] = score.mean(axis=0)\n",
        "  return score"
      ],
      "execution_count": 8,
      "outputs": []
    },
    {
      "cell_type": "code",
      "metadata": {
        "id": "NamIPgVUbWT6",
        "colab": {
          "base_uri": "https://localhost:8080/",
          "height": 225
        },
        "outputId": "53c0ef42-eb85-4b74-9150-c510d1c6ef04"
      },
      "source": [
        "y_pred = LR_result['test_pred']\n",
        "y_real = LR_result['y_test']\n",
        "metric(y_pred,y_real)"
      ],
      "execution_count": 9,
      "outputs": [
        {
          "output_type": "execute_result",
          "data": {
            "text/html": [
              "<div>\n",
              "<style scoped>\n",
              "    .dataframe tbody tr th:only-of-type {\n",
              "        vertical-align: middle;\n",
              "    }\n",
              "\n",
              "    .dataframe tbody tr th {\n",
              "        vertical-align: top;\n",
              "    }\n",
              "\n",
              "    .dataframe thead th {\n",
              "        text-align: right;\n",
              "    }\n",
              "</style>\n",
              "<table border=\"1\" class=\"dataframe\">\n",
              "  <thead>\n",
              "    <tr style=\"text-align: right;\">\n",
              "      <th></th>\n",
              "      <th>R2</th>\n",
              "      <th>MSE</th>\n",
              "      <th>MAPE</th>\n",
              "    </tr>\n",
              "  </thead>\n",
              "  <tbody>\n",
              "    <tr>\n",
              "      <th>大腸桿菌群</th>\n",
              "      <td>0</td>\n",
              "      <td>0.3044</td>\n",
              "      <td>38.9852</td>\n",
              "    </tr>\n",
              "    <tr>\n",
              "      <th>氨氮</th>\n",
              "      <td>0.3465</td>\n",
              "      <td>0.3175</td>\n",
              "      <td>40.1650</td>\n",
              "    </tr>\n",
              "    <tr>\n",
              "      <th>總磷</th>\n",
              "      <td>0</td>\n",
              "      <td>0.2455</td>\n",
              "      <td>126.3133</td>\n",
              "    </tr>\n",
              "    <tr>\n",
              "      <th>砷</th>\n",
              "      <td>0</td>\n",
              "      <td>0.1517</td>\n",
              "      <td>99.5473</td>\n",
              "    </tr>\n",
              "    <tr>\n",
              "      <th>錳</th>\n",
              "      <td>0</td>\n",
              "      <td>0.0839</td>\n",
              "      <td>403.7619</td>\n",
              "    </tr>\n",
              "    <tr>\n",
              "      <th>AVG</th>\n",
              "      <td>0.0693</td>\n",
              "      <td>0.2206</td>\n",
              "      <td>141.7545</td>\n",
              "    </tr>\n",
              "  </tbody>\n",
              "</table>\n",
              "</div>"
            ],
            "text/plain": [
              "          R2    MSE     MAPE\n",
              "大腸桿菌群      0 0.3044  38.9852\n",
              "氨氮    0.3465 0.3175  40.1650\n",
              "總磷         0 0.2455 126.3133\n",
              "砷          0 0.1517  99.5473\n",
              "錳          0 0.0839 403.7619\n",
              "AVG   0.0693 0.2206 141.7545"
            ]
          },
          "metadata": {
            "tags": []
          },
          "execution_count": 9
        }
      ]
    },
    {
      "cell_type": "code",
      "metadata": {
        "id": "tlgEkTsqcUYK",
        "colab": {
          "base_uri": "https://localhost:8080/",
          "height": 225
        },
        "outputId": "7b2251ad-4f0b-438b-f8a8-4c9a220422a8"
      },
      "source": [
        "y_pred = RF_result['test_pred']\n",
        "y_real = RF_result['y_test']\n",
        "metric(y_pred,y_real)"
      ],
      "execution_count": 10,
      "outputs": [
        {
          "output_type": "execute_result",
          "data": {
            "text/html": [
              "<div>\n",
              "<style scoped>\n",
              "    .dataframe tbody tr th:only-of-type {\n",
              "        vertical-align: middle;\n",
              "    }\n",
              "\n",
              "    .dataframe tbody tr th {\n",
              "        vertical-align: top;\n",
              "    }\n",
              "\n",
              "    .dataframe thead th {\n",
              "        text-align: right;\n",
              "    }\n",
              "</style>\n",
              "<table border=\"1\" class=\"dataframe\">\n",
              "  <thead>\n",
              "    <tr style=\"text-align: right;\">\n",
              "      <th></th>\n",
              "      <th>R2</th>\n",
              "      <th>MSE</th>\n",
              "      <th>MAPE</th>\n",
              "    </tr>\n",
              "  </thead>\n",
              "  <tbody>\n",
              "    <tr>\n",
              "      <th>大腸桿菌群</th>\n",
              "      <td>0.0159</td>\n",
              "      <td>0.2698</td>\n",
              "      <td>38.5599</td>\n",
              "    </tr>\n",
              "    <tr>\n",
              "      <th>氨氮</th>\n",
              "      <td>0.2483</td>\n",
              "      <td>0.3652</td>\n",
              "      <td>93.4444</td>\n",
              "    </tr>\n",
              "    <tr>\n",
              "      <th>總磷</th>\n",
              "      <td>0</td>\n",
              "      <td>0.2488</td>\n",
              "      <td>121.4303</td>\n",
              "    </tr>\n",
              "    <tr>\n",
              "      <th>砷</th>\n",
              "      <td>0.0154</td>\n",
              "      <td>0.1147</td>\n",
              "      <td>63.5545</td>\n",
              "    </tr>\n",
              "    <tr>\n",
              "      <th>錳</th>\n",
              "      <td>0</td>\n",
              "      <td>0.0446</td>\n",
              "      <td>65.1439</td>\n",
              "    </tr>\n",
              "    <tr>\n",
              "      <th>AVG</th>\n",
              "      <td>0.0559</td>\n",
              "      <td>0.2086</td>\n",
              "      <td>76.4266</td>\n",
              "    </tr>\n",
              "  </tbody>\n",
              "</table>\n",
              "</div>"
            ],
            "text/plain": [
              "          R2    MSE     MAPE\n",
              "大腸桿菌群 0.0159 0.2698  38.5599\n",
              "氨氮    0.2483 0.3652  93.4444\n",
              "總磷         0 0.2488 121.4303\n",
              "砷     0.0154 0.1147  63.5545\n",
              "錳          0 0.0446  65.1439\n",
              "AVG   0.0559 0.2086  76.4266"
            ]
          },
          "metadata": {
            "tags": []
          },
          "execution_count": 10
        }
      ]
    },
    {
      "cell_type": "code",
      "metadata": {
        "id": "3zDvmI_ktZuB",
        "colab": {
          "base_uri": "https://localhost:8080/",
          "height": 1000
        },
        "outputId": "080e9fe8-1540-4f89-affb-dab7627a674a"
      },
      "source": [
        "import matplotlib.pyplot as plt\n",
        "for name in ['大腸桿菌群','氨氮','總磷','砷','錳']:\n",
        "  print(name)\n",
        "  plt.scatter(y_pred[name].index,y_pred[name],label='pred')\n",
        "  plt.scatter(y_real[name].index,y_real[name],label='real')\n",
        "  plt.legend()\n",
        "  plt.show()"
      ],
      "execution_count": 11,
      "outputs": [
        {
          "output_type": "stream",
          "text": [
            "大腸桿菌群\n"
          ],
          "name": "stdout"
        },
        {
          "output_type": "display_data",
          "data": {
            "image/png": "[encoded data removed]",
            "text/plain": [
              "<Figure size 432x288 with 1 Axes>"
            ]
          },
          "metadata": {
            "tags": [],
            "needs_background": "light"
          }
        },
        {
          "output_type": "stream",
          "text": [
            "氨氮\n"
          ],
          "name": "stdout"
        },
        {
          "output_type": "display_data",
          "data": {
            "image/png": "[encoded data removed]",
            "text/plain": [
              "<Figure size 432x288 with 1 Axes>"
            ]
          },
          "metadata": {
            "tags": [],
            "needs_background": "light"
          }
        },
        {
          "output_type": "stream",
          "text": [
            "總磷\n"
          ],
          "name": "stdout"
        },
        {
          "output_type": "display_data",
          "data": {
            "image/png": "[encoded data removed]",
            "text/plain": [
              "<Figure size 432x288 with 1 Axes>"
            ]
          },
          "metadata": {
            "tags": [],
            "needs_background": "light"
          }
        },
        {
          "output_type": "stream",
          "text": [
            "砷\n"
          ],
          "name": "stdout"
        },
        {
          "output_type": "display_data",
          "data": {
            "image/png": "[encoded data removed]",
            "text/plain": [
              "<Figure size 432x288 with 1 Axes>"
            ]
          },
          "metadata": {
            "tags": [],
            "needs_background": "light"
          }
        },
        {
          "output_type": "stream",
          "text": [
            "錳\n"
          ],
          "name": "stdout"
        },
        {
          "output_type": "display_data",
          "data": {
            "image/png": "[encoded data removed]",
            "text/plain": [
              "<Figure size 432x288 with 1 Axes>"
            ]
          },
          "metadata": {
            "tags": [],
            "needs_background": "light"
          }
        }
      ]
    },
    {
      "cell_type": "code",
      "metadata": {
        "id": "10-nMSybvyQe"
      },
      "source": [
        ""
      ],
      "execution_count": 11,
      "outputs": []
    }
  ]
}