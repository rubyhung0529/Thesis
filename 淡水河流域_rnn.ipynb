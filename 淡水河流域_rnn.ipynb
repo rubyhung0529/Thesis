{
  "nbformat": 4,
  "nbformat_minor": 0,
  "metadata": {
    "colab": {
      "name": "淡水河流域_rnn.ipynb",
      "provenance": [],
      "collapsed_sections": [],
      "include_colab_link": true
    },
    "kernelspec": {
      "name": "python3",
      "display_name": "Python 3"
    }
  },
  "cells": [
    {
      "cell_type": "markdown",
      "metadata": {
        "id": "view-in-github",
        "colab_type": "text"
      },
      "source": [
        "<a href=\"https://colab.research.google.com/github/rubyhung0529/Thesis/blob/main/%E6%B7%A1%E6%B0%B4%E6%B2%B3%E6%B5%81%E5%9F%9F_rnn.ipynb\" target=\"_parent\"><img src=\"https://colab.research.google.com/assets/colab-badge.svg\" alt=\"Open In Colab\"/></a>"
      ]
    },
    {
      "cell_type": "code",
      "metadata": {
        "id": "PSrXCKSmimVs",
        "colab": {
          "base_uri": "https://localhost:8080/"
        },
        "outputId": "a65efedc-f614-45ab-e421-3f090856c853"
      },
      "source": [
        "from google.colab import drive\n",
        "import pandas as pd\n",
        "import numpy as np\n",
        "import numpy as np\n",
        "from tqdm import tqdm_notebook as tqdm\n",
        "pd.options.display.float_format = '{:.4f}'.format#評分分數不要科學記號,到小數點後三位\n",
        "seed = 7\n",
        "np.random.seed(seed)\n",
        "drive.mount('/content/drive')"
      ],
      "execution_count": 1,
      "outputs": [
        {
          "output_type": "stream",
          "text": [
            "Drive already mounted at /content/drive; to attempt to forcibly remount, call drive.mount(\"/content/drive\", force_remount=True).\n"
          ],
          "name": "stdout"
        }
      ]
    },
    {
      "cell_type": "code",
      "metadata": {
        "id": "sQyoVU0t1yC8"
      },
      "source": [
        "#!pip install pytorch_ranger"
      ],
      "execution_count": 2,
      "outputs": []
    },
    {
      "cell_type": "code",
      "metadata": {
        "id": "vfPWtH8Vp13Y",
        "colab": {
          "base_uri": "https://localhost:8080/"
        },
        "outputId": "29650744-4371-4641-8877-6c7141088473"
      },
      "source": [
        "!pip install git+https://github.com/jonbarron/robust_loss_pytorch\n",
        "import robust_loss_pytorch "
      ],
      "execution_count": 3,
      "outputs": [
        {
          "output_type": "stream",
          "text": [
            "Collecting git+https://github.com/jonbarron/robust_loss_pytorch\n",
            "  Cloning https://github.com/jonbarron/robust_loss_pytorch to /tmp/pip-req-build-q0p35bbl\n",
            "  Running command git clone -q https://github.com/jonbarron/robust_loss_pytorch /tmp/pip-req-build-q0p35bbl\n",
            "Requirement already satisfied (use --upgrade to upgrade): robust-loss-pytorch==0.0.2 from git+https://github.com/jonbarron/robust_loss_pytorch in /usr/local/lib/python3.6/dist-packages\n",
            "Requirement already satisfied: torch>=1.3.1 in /usr/local/lib/python3.6/dist-packages (from robust-loss-pytorch==0.0.2) (1.7.0+cu101)\n",
            "Requirement already satisfied: torch-dct in /usr/local/lib/python3.6/dist-packages (from robust-loss-pytorch==0.0.2) (0.1.5)\n",
            "Requirement already satisfied: numpy>=1.15.4 in /usr/local/lib/python3.6/dist-packages (from robust-loss-pytorch==0.0.2) (1.19.5)\n",
            "Requirement already satisfied: scipy>=1.1.0 in /usr/local/lib/python3.6/dist-packages (from robust-loss-pytorch==0.0.2) (1.4.1)\n",
            "Requirement already satisfied: absl-py>=0.1.9 in /usr/local/lib/python3.6/dist-packages (from robust-loss-pytorch==0.0.2) (0.10.0)\n",
            "Requirement already satisfied: mpmath>=1.1.0 in /usr/local/lib/python3.6/dist-packages (from robust-loss-pytorch==0.0.2) (1.1.0)\n",
            "Requirement already satisfied: dataclasses in /usr/local/lib/python3.6/dist-packages (from torch>=1.3.1->robust-loss-pytorch==0.0.2) (0.8)\n",
            "Requirement already satisfied: typing-extensions in /usr/local/lib/python3.6/dist-packages (from torch>=1.3.1->robust-loss-pytorch==0.0.2) (3.7.4.3)\n",
            "Requirement already satisfied: future in /usr/local/lib/python3.6/dist-packages (from torch>=1.3.1->robust-loss-pytorch==0.0.2) (0.16.0)\n",
            "Requirement already satisfied: six in /usr/local/lib/python3.6/dist-packages (from absl-py>=0.1.9->robust-loss-pytorch==0.0.2) (1.15.0)\n",
            "Building wheels for collected packages: robust-loss-pytorch\n",
            "  Building wheel for robust-loss-pytorch (setup.py) ... \u001b[?25l\u001b[?25hdone\n",
            "  Created wheel for robust-loss-pytorch: filename=robust_loss_pytorch-0.0.2-cp36-none-any.whl size=172449 sha256=d2fb3aee1914124a3571dff517bf06b93aa475254ac8cd70ffcdb8811b5694e9\n",
            "  Stored in directory: /tmp/pip-ephem-wheel-cache-t60d6wmm/wheels/00/c7/55/36012ed43c38c1b3761ef99db3296fefac706acc585afcc090\n",
            "Successfully built robust-loss-pytorch\n"
          ],
          "name": "stdout"
        }
      ]
    },
    {
      "cell_type": "code",
      "metadata": {
        "id": "dcrn3RzXiuRx",
        "colab": {
          "base_uri": "https://localhost:8080/",
          "height": 635
        },
        "outputId": "49a60a48-9247-438d-aeaa-656d3f4ce5a8"
      },
      "source": [
        "full = pd.read_csv('/content/drive/My Drive/碩士論文資料/淡水河流域_cleaned(full).csv').sort_values(by='採樣日期')\n",
        "full = pd.DataFrame(full)\n",
        "print(full.shape)\n",
        "full.head()"
      ],
      "execution_count": 4,
      "outputs": [
        {
          "output_type": "stream",
          "text": [
            "(2239, 24)\n"
          ],
          "name": "stdout"
        },
        {
          "output_type": "execute_result",
          "data": {
            "text/html": [
              "<div>\n",
              "<style scoped>\n",
              "    .dataframe tbody tr th:only-of-type {\n",
              "        vertical-align: middle;\n",
              "    }\n",
              "\n",
              "    .dataframe tbody tr th {\n",
              "        vertical-align: top;\n",
              "    }\n",
              "\n",
              "    .dataframe thead th {\n",
              "        text-align: right;\n",
              "    }\n",
              "</style>\n",
              "<table border=\"1\" class=\"dataframe\">\n",
              "  <thead>\n",
              "    <tr style=\"text-align: right;\">\n",
              "      <th></th>\n",
              "      <th>測站名稱</th>\n",
              "      <th>採樣日期</th>\n",
              "      <th>河川污染指數</th>\n",
              "      <th>氣溫</th>\n",
              "      <th>水溫</th>\n",
              "      <th>酸鹼值</th>\n",
              "      <th>導電度</th>\n",
              "      <th>溶氧(電極法)</th>\n",
              "      <th>溶氧飽和度</th>\n",
              "      <th>生化需氧量</th>\n",
              "      <th>化學需氧量</th>\n",
              "      <th>懸浮固體</th>\n",
              "      <th>大腸桿菌群</th>\n",
              "      <th>氨氮</th>\n",
              "      <th>總磷</th>\n",
              "      <th>硝酸鹽氮</th>\n",
              "      <th>鎘</th>\n",
              "      <th>鉛</th>\n",
              "      <th>六價鉻</th>\n",
              "      <th>砷</th>\n",
              "      <th>汞</th>\n",
              "      <th>銅</th>\n",
              "      <th>鋅</th>\n",
              "      <th>錳</th>\n",
              "    </tr>\n",
              "  </thead>\n",
              "  <tbody>\n",
              "    <tr>\n",
              "      <th>998</th>\n",
              "      <td>板新取水口</td>\n",
              "      <td>2005-03-01 01:30:00</td>\n",
              "      <td>2.3000</td>\n",
              "      <td>13.2000</td>\n",
              "      <td>14.1000</td>\n",
              "      <td>8.1000</td>\n",
              "      <td>247.0000</td>\n",
              "      <td>10.0000</td>\n",
              "      <td>97.5000</td>\n",
              "      <td>1.0000</td>\n",
              "      <td>5.5000</td>\n",
              "      <td>54.3000</td>\n",
              "      <td>4200.0000</td>\n",
              "      <td>0.1100</td>\n",
              "      <td>0.0270</td>\n",
              "      <td>0.5400</td>\n",
              "      <td>0.0010</td>\n",
              "      <td>0.0330</td>\n",
              "      <td>0.0060</td>\n",
              "      <td>0.0012</td>\n",
              "      <td>0.0005</td>\n",
              "      <td>0.0050</td>\n",
              "      <td>0.0210</td>\n",
              "      <td>0.1220</td>\n",
              "    </tr>\n",
              "    <tr>\n",
              "      <th>921</th>\n",
              "      <td>暖江橋</td>\n",
              "      <td>2005-03-01 01:44:00</td>\n",
              "      <td>1.5000</td>\n",
              "      <td>17.5000</td>\n",
              "      <td>16.4000</td>\n",
              "      <td>6.6000</td>\n",
              "      <td>144.0000</td>\n",
              "      <td>10.8000</td>\n",
              "      <td>109.8000</td>\n",
              "      <td>2.0000</td>\n",
              "      <td>6.6000</td>\n",
              "      <td>42.1000</td>\n",
              "      <td>17000.0000</td>\n",
              "      <td>0.3500</td>\n",
              "      <td>0.0160</td>\n",
              "      <td>0.7600</td>\n",
              "      <td>0.0010</td>\n",
              "      <td>0.0120</td>\n",
              "      <td>0.0060</td>\n",
              "      <td>0.0014</td>\n",
              "      <td>0.0005</td>\n",
              "      <td>0.0050</td>\n",
              "      <td>0.0790</td>\n",
              "      <td>0.0790</td>\n",
              "    </tr>\n",
              "    <tr>\n",
              "      <th>1001</th>\n",
              "      <td>三鶯大橋</td>\n",
              "      <td>2005-03-01 02:20:00</td>\n",
              "      <td>2.3000</td>\n",
              "      <td>13.0000</td>\n",
              "      <td>14.9000</td>\n",
              "      <td>8.0000</td>\n",
              "      <td>201.0000</td>\n",
              "      <td>10.0000</td>\n",
              "      <td>99.5000</td>\n",
              "      <td>1.0000</td>\n",
              "      <td>4.8000</td>\n",
              "      <td>58.9000</td>\n",
              "      <td>2200.0000</td>\n",
              "      <td>0.0800</td>\n",
              "      <td>0.0140</td>\n",
              "      <td>0.5200</td>\n",
              "      <td>0.0010</td>\n",
              "      <td>0.0140</td>\n",
              "      <td>0.0040</td>\n",
              "      <td>0.0009</td>\n",
              "      <td>0.0003</td>\n",
              "      <td>0.0050</td>\n",
              "      <td>0.0300</td>\n",
              "      <td>0.1190</td>\n",
              "    </tr>\n",
              "    <tr>\n",
              "      <th>924</th>\n",
              "      <td>六合橋</td>\n",
              "      <td>2005-03-01 02:36:00</td>\n",
              "      <td>2.3000</td>\n",
              "      <td>16.5000</td>\n",
              "      <td>15.9000</td>\n",
              "      <td>6.4000</td>\n",
              "      <td>266.0000</td>\n",
              "      <td>10.0000</td>\n",
              "      <td>100.9000</td>\n",
              "      <td>2.3000</td>\n",
              "      <td>11.6000</td>\n",
              "      <td>92.2000</td>\n",
              "      <td>43000.0000</td>\n",
              "      <td>0.3600</td>\n",
              "      <td>0.0190</td>\n",
              "      <td>0.9700</td>\n",
              "      <td>0.0010</td>\n",
              "      <td>0.0170</td>\n",
              "      <td>0.0030</td>\n",
              "      <td>0.0010</td>\n",
              "      <td>0.0013</td>\n",
              "      <td>0.0090</td>\n",
              "      <td>0.0610</td>\n",
              "      <td>0.1390</td>\n",
              "    </tr>\n",
              "    <tr>\n",
              "      <th>987</th>\n",
              "      <td>三峽河抽水站(取代醒心橋)</td>\n",
              "      <td>2005-03-01 03:10:00</td>\n",
              "      <td>1.0000</td>\n",
              "      <td>12.5000</td>\n",
              "      <td>14.4000</td>\n",
              "      <td>7.5000</td>\n",
              "      <td>113.0000</td>\n",
              "      <td>10.1000</td>\n",
              "      <td>98.9000</td>\n",
              "      <td>1.0000</td>\n",
              "      <td>5.6000</td>\n",
              "      <td>16.6000</td>\n",
              "      <td>2400.0000</td>\n",
              "      <td>0.0800</td>\n",
              "      <td>0.0140</td>\n",
              "      <td>1.1400</td>\n",
              "      <td>0.0010</td>\n",
              "      <td>0.0100</td>\n",
              "      <td>0.0070</td>\n",
              "      <td>0.0013</td>\n",
              "      <td>0.0011</td>\n",
              "      <td>0.0030</td>\n",
              "      <td>0.0290</td>\n",
              "      <td>0.0420</td>\n",
              "    </tr>\n",
              "  </tbody>\n",
              "</table>\n",
              "</div>"
            ],
            "text/plain": [
              "               測站名稱                 採樣日期  河川污染指數  ...      銅      鋅      錳\n",
              "998           板新取水口  2005-03-01 01:30:00  2.3000  ... 0.0050 0.0210 0.1220\n",
              "921             暖江橋  2005-03-01 01:44:00  1.5000  ... 0.0050 0.0790 0.0790\n",
              "1001           三鶯大橋  2005-03-01 02:20:00  2.3000  ... 0.0050 0.0300 0.1190\n",
              "924             六合橋  2005-03-01 02:36:00  2.3000  ... 0.0090 0.0610 0.1390\n",
              "987   三峽河抽水站(取代醒心橋)  2005-03-01 03:10:00  1.0000  ... 0.0030 0.0290 0.0420\n",
              "\n",
              "[5 rows x 24 columns]"
            ]
          },
          "metadata": {
            "tags": []
          },
          "execution_count": 4
        }
      ]
    },
    {
      "cell_type": "markdown",
      "metadata": {
        "id": "Wfju7O_8jOR5"
      },
      "source": [
        "# define X,y"
      ]
    },
    {
      "cell_type": "code",
      "metadata": {
        "id": "-Xmer8o-iz8O",
        "colab": {
          "base_uri": "https://localhost:8080/"
        },
        "outputId": "ee6429f5-ddc8-474c-e792-f7d791715bc3"
      },
      "source": [
        "col = full.columns.tolist()\n",
        "x_col = col[2:12]\n",
        "y_col = ['大腸桿菌群','氨氮','總磷','砷','錳']\n",
        "x_col,y_col"
      ],
      "execution_count": 5,
      "outputs": [
        {
          "output_type": "execute_result",
          "data": {
            "text/plain": [
              "(['河川污染指數',\n",
              "  '氣溫',\n",
              "  '水溫',\n",
              "  '酸鹼值',\n",
              "  '導電度',\n",
              "  '溶氧(電極法)',\n",
              "  '溶氧飽和度',\n",
              "  '生化需氧量',\n",
              "  '化學需氧量',\n",
              "  '懸浮固體'],\n",
              " ['大腸桿菌群', '氨氮', '總磷', '砷', '錳'])"
            ]
          },
          "metadata": {
            "tags": []
          },
          "execution_count": 5
        }
      ]
    },
    {
      "cell_type": "markdown",
      "metadata": {
        "id": "rDSxyJjFjMWA"
      },
      "source": [
        "# scaled"
      ]
    },
    {
      "cell_type": "code",
      "metadata": {
        "id": "BPxb7dKKi5h1",
        "colab": {
          "base_uri": "https://localhost:8080/",
          "height": 618
        },
        "outputId": "25eae83b-7923-41b5-d96c-6cb8cf3df32e"
      },
      "source": [
        "from sklearn.preprocessing import StandardScaler\n",
        "ss_x = StandardScaler()\n",
        "ss_y = StandardScaler()\n",
        "full[x_col] = ss_x.fit_transform(full[x_col])\n",
        "full[y_col] = ss_y.fit_transform(full[y_col])\n",
        "full.head()"
      ],
      "execution_count": 6,
      "outputs": [
        {
          "output_type": "execute_result",
          "data": {
            "text/html": [
              "<div>\n",
              "<style scoped>\n",
              "    .dataframe tbody tr th:only-of-type {\n",
              "        vertical-align: middle;\n",
              "    }\n",
              "\n",
              "    .dataframe tbody tr th {\n",
              "        vertical-align: top;\n",
              "    }\n",
              "\n",
              "    .dataframe thead th {\n",
              "        text-align: right;\n",
              "    }\n",
              "</style>\n",
              "<table border=\"1\" class=\"dataframe\">\n",
              "  <thead>\n",
              "    <tr style=\"text-align: right;\">\n",
              "      <th></th>\n",
              "      <th>測站名稱</th>\n",
              "      <th>採樣日期</th>\n",
              "      <th>河川污染指數</th>\n",
              "      <th>氣溫</th>\n",
              "      <th>水溫</th>\n",
              "      <th>酸鹼值</th>\n",
              "      <th>導電度</th>\n",
              "      <th>溶氧(電極法)</th>\n",
              "      <th>溶氧飽和度</th>\n",
              "      <th>生化需氧量</th>\n",
              "      <th>化學需氧量</th>\n",
              "      <th>懸浮固體</th>\n",
              "      <th>大腸桿菌群</th>\n",
              "      <th>氨氮</th>\n",
              "      <th>總磷</th>\n",
              "      <th>硝酸鹽氮</th>\n",
              "      <th>鎘</th>\n",
              "      <th>鉛</th>\n",
              "      <th>六價鉻</th>\n",
              "      <th>砷</th>\n",
              "      <th>汞</th>\n",
              "      <th>銅</th>\n",
              "      <th>鋅</th>\n",
              "      <th>錳</th>\n",
              "    </tr>\n",
              "  </thead>\n",
              "  <tbody>\n",
              "    <tr>\n",
              "      <th>998</th>\n",
              "      <td>板新取水口</td>\n",
              "      <td>2005-03-01 01:30:00</td>\n",
              "      <td>-0.2499</td>\n",
              "      <td>-1.8174</td>\n",
              "      <td>-1.8293</td>\n",
              "      <td>1.3239</td>\n",
              "      <td>-0.2048</td>\n",
              "      <td>1.0956</td>\n",
              "      <td>0.5661</td>\n",
              "      <td>-0.4758</td>\n",
              "      <td>-0.4337</td>\n",
              "      <td>-0.0255</td>\n",
              "      <td>-0.2295</td>\n",
              "      <td>-0.6466</td>\n",
              "      <td>-0.6323</td>\n",
              "      <td>0.5400</td>\n",
              "      <td>0.0010</td>\n",
              "      <td>0.0330</td>\n",
              "      <td>0.0060</td>\n",
              "      <td>-0.0082</td>\n",
              "      <td>0.0005</td>\n",
              "      <td>0.0050</td>\n",
              "      <td>0.0210</td>\n",
              "      <td>0.1103</td>\n",
              "    </tr>\n",
              "    <tr>\n",
              "      <th>921</th>\n",
              "      <td>暖江橋</td>\n",
              "      <td>2005-03-01 01:44:00</td>\n",
              "      <td>-0.6494</td>\n",
              "      <td>-1.1234</td>\n",
              "      <td>-1.3416</td>\n",
              "      <td>-2.2729</td>\n",
              "      <td>-0.2246</td>\n",
              "      <td>1.3649</td>\n",
              "      <td>0.9272</td>\n",
              "      <td>-0.2630</td>\n",
              "      <td>-0.3640</td>\n",
              "      <td>-0.0472</td>\n",
              "      <td>-0.2123</td>\n",
              "      <td>-0.5181</td>\n",
              "      <td>-0.6686</td>\n",
              "      <td>0.7600</td>\n",
              "      <td>0.0010</td>\n",
              "      <td>0.0120</td>\n",
              "      <td>0.0060</td>\n",
              "      <td>0.0964</td>\n",
              "      <td>0.0005</td>\n",
              "      <td>0.0050</td>\n",
              "      <td>0.0790</td>\n",
              "      <td>-0.0480</td>\n",
              "    </tr>\n",
              "    <tr>\n",
              "      <th>1001</th>\n",
              "      <td>三鶯大橋</td>\n",
              "      <td>2005-03-01 02:20:00</td>\n",
              "      <td>-0.2499</td>\n",
              "      <td>-1.8497</td>\n",
              "      <td>-1.6596</td>\n",
              "      <td>1.0841</td>\n",
              "      <td>-0.2137</td>\n",
              "      <td>1.0956</td>\n",
              "      <td>0.6248</td>\n",
              "      <td>-0.4758</td>\n",
              "      <td>-0.4780</td>\n",
              "      <td>-0.0173</td>\n",
              "      <td>-0.2322</td>\n",
              "      <td>-0.6627</td>\n",
              "      <td>-0.6752</td>\n",
              "      <td>0.5200</td>\n",
              "      <td>0.0010</td>\n",
              "      <td>0.0140</td>\n",
              "      <td>0.0040</td>\n",
              "      <td>-0.1652</td>\n",
              "      <td>0.0003</td>\n",
              "      <td>0.0050</td>\n",
              "      <td>0.0300</td>\n",
              "      <td>0.0992</td>\n",
              "    </tr>\n",
              "    <tr>\n",
              "      <th>924</th>\n",
              "      <td>六合橋</td>\n",
              "      <td>2005-03-01 02:36:00</td>\n",
              "      <td>-0.2499</td>\n",
              "      <td>-1.2848</td>\n",
              "      <td>-1.4476</td>\n",
              "      <td>-2.7525</td>\n",
              "      <td>-0.2011</td>\n",
              "      <td>1.0956</td>\n",
              "      <td>0.6659</td>\n",
              "      <td>-0.1992</td>\n",
              "      <td>-0.0473</td>\n",
              "      <td>0.0418</td>\n",
              "      <td>-0.1773</td>\n",
              "      <td>-0.5127</td>\n",
              "      <td>-0.6587</td>\n",
              "      <td>0.9700</td>\n",
              "      <td>0.0010</td>\n",
              "      <td>0.0170</td>\n",
              "      <td>0.0030</td>\n",
              "      <td>-0.1129</td>\n",
              "      <td>0.0013</td>\n",
              "      <td>0.0090</td>\n",
              "      <td>0.0610</td>\n",
              "      <td>0.1729</td>\n",
              "    </tr>\n",
              "    <tr>\n",
              "      <th>987</th>\n",
              "      <td>三峽河抽水站(取代醒心橋)</td>\n",
              "      <td>2005-03-01 03:10:00</td>\n",
              "      <td>-0.8991</td>\n",
              "      <td>-1.9304</td>\n",
              "      <td>-1.7657</td>\n",
              "      <td>-0.1148</td>\n",
              "      <td>-0.2306</td>\n",
              "      <td>1.1292</td>\n",
              "      <td>0.6072</td>\n",
              "      <td>-0.4758</td>\n",
              "      <td>-0.4273</td>\n",
              "      <td>-0.0925</td>\n",
              "      <td>-0.2319</td>\n",
              "      <td>-0.6627</td>\n",
              "      <td>-0.6752</td>\n",
              "      <td>1.1400</td>\n",
              "      <td>0.0010</td>\n",
              "      <td>0.0100</td>\n",
              "      <td>0.0070</td>\n",
              "      <td>0.0441</td>\n",
              "      <td>0.0011</td>\n",
              "      <td>0.0030</td>\n",
              "      <td>0.0290</td>\n",
              "      <td>-0.1842</td>\n",
              "    </tr>\n",
              "  </tbody>\n",
              "</table>\n",
              "</div>"
            ],
            "text/plain": [
              "               測站名稱                 採樣日期  河川污染指數  ...      銅      鋅       錳\n",
              "998           板新取水口  2005-03-01 01:30:00 -0.2499  ... 0.0050 0.0210  0.1103\n",
              "921             暖江橋  2005-03-01 01:44:00 -0.6494  ... 0.0050 0.0790 -0.0480\n",
              "1001           三鶯大橋  2005-03-01 02:20:00 -0.2499  ... 0.0050 0.0300  0.0992\n",
              "924             六合橋  2005-03-01 02:36:00 -0.2499  ... 0.0090 0.0610  0.1729\n",
              "987   三峽河抽水站(取代醒心橋)  2005-03-01 03:10:00 -0.8991  ... 0.0030 0.0290 -0.1842\n",
              "\n",
              "[5 rows x 24 columns]"
            ]
          },
          "metadata": {
            "tags": []
          },
          "execution_count": 6
        }
      ]
    },
    {
      "cell_type": "markdown",
      "metadata": {
        "id": "SbYdU92DjWnk"
      },
      "source": [
        "# define model"
      ]
    },
    {
      "cell_type": "code",
      "metadata": {
        "id": "eBBpswdlkEP8"
      },
      "source": [
        "import torch\n",
        "import torch.nn as nn\n",
        "import torch.nn.functional as F\n",
        "import torch.optim as optim\n",
        "import matplotlib.pyplot as plt"
      ],
      "execution_count": 7,
      "outputs": []
    },
    {
      "cell_type": "code",
      "metadata": {
        "id": "DTq4clWMjInW"
      },
      "source": [
        "class Net(nn.Module):\n",
        "  def __init__(self,x_size,y_size):\n",
        "    super().__init__()\n",
        "    \n",
        "    # hyperparamters\n",
        "    self.h_size = 20\n",
        "    self.num_layers = 1\n",
        "    self.num_directions = 1\n",
        "    self.seq_len = 3\n",
        "    \n",
        "    # nets\n",
        "    self.rnn = nn.RNN(x_size,self.h_size,self.num_layers)#input_size,hidden_size,num_layers\n",
        "    self.lr = nn.Linear(self.h_size*self.seq_len,y_size)#input_size,output_size\n",
        "\n",
        "  def forward(self,x):\n",
        "    batch_size,seq_size,input_size = x.shape\n",
        "    h0 = torch.randn(self.num_layers*self.num_directions,batch_size,self.h_size)\n",
        "    x = x.reshape(seq_size,batch_size,input_size)#seq_len, batch, input_size\n",
        "    output,h_n = self.rnn(x,h0)\n",
        "    output = output.reshape(batch_size,-1)\n",
        "    output = self.lr(output)\n",
        "    return output"
      ],
      "execution_count": 8,
      "outputs": []
    },
    {
      "cell_type": "code",
      "metadata": {
        "id": "Nsr1hxHSC8vE"
      },
      "source": [
        "model = Net(len(x_col+y_col),len(y_col))"
      ],
      "execution_count": 9,
      "outputs": []
    },
    {
      "cell_type": "markdown",
      "metadata": {
        "id": "H5exV0K0lra3"
      },
      "source": [
        "# prepare data and forward test"
      ]
    },
    {
      "cell_type": "code",
      "metadata": {
        "id": "DxL2vMY00S7F",
        "colab": {
          "base_uri": "https://localhost:8080/"
        },
        "outputId": "6a86a32b-eecc-4929-feb1-069db8458fab"
      },
      "source": [
        "def create_inout_sequences(input_data,t):\n",
        "  x = []\n",
        "  y = []\n",
        "  for i in range(len(input_data)-t):\n",
        "    x.append(input_data.iloc[i:i+t][x_col+y_col].values)\n",
        "    y.append(input_data.iloc[[i+t-1]][y_col].values)\n",
        "  return np.array(x),np.array(y)\n",
        "\n",
        "x,y = create_inout_sequences(full,t=model.seq_len)\n",
        "\n",
        "# batch_size,seq_size,feature_size\n",
        "x.shape,y.shape"
      ],
      "execution_count": 10,
      "outputs": [
        {
          "output_type": "execute_result",
          "data": {
            "text/plain": [
              "((2236, 3, 15), (2236, 1, 5))"
            ]
          },
          "metadata": {
            "tags": []
          },
          "execution_count": 10
        }
      ]
    },
    {
      "cell_type": "code",
      "metadata": {
        "id": "12mhpdlJjItS",
        "colab": {
          "base_uri": "https://localhost:8080/"
        },
        "outputId": "91e1e857-0008-4800-d776-ee9e79f77d6d"
      },
      "source": [
        "X = torch.FloatTensor(x)\n",
        "Y = torch.FloatTensor(y).reshape(-1,len(y_col))\n",
        "sp = int(len(X)*0.7)\n",
        "X_train,X_test = X[:sp,:],X[sp:,:]\n",
        "Y_train,Y_test = Y[:sp,:],Y[sp:,:]\n",
        "train = torch.utils.data.TensorDataset(X_train,Y_train)\n",
        "train_iter = torch.utils.data.DataLoader(train, batch_size=32, shuffle=True)\n",
        "test = torch.utils.data.TensorDataset(X_test,Y_test)\n",
        "test_iter = torch.utils.data.DataLoader(test, batch_size=32, shuffle=True)\n",
        "model(X_test).shape,Y_test.shape"
      ],
      "execution_count": 11,
      "outputs": [
        {
          "output_type": "execute_result",
          "data": {
            "text/plain": [
              "(torch.Size([671, 5]), torch.Size([671, 5]))"
            ]
          },
          "metadata": {
            "tags": []
          },
          "execution_count": 11
        }
      ]
    },
    {
      "cell_type": "code",
      "metadata": {
        "id": "6WX3fx_tBeTm",
        "colab": {
          "base_uri": "https://localhost:8080/",
          "height": 975
        },
        "outputId": "633364da-7f55-4424-f9b3-8979ae5de3cd"
      },
      "source": [
        "from torch.utils.tensorboard import SummaryWriter\n",
        "%load_ext tensorboard\n",
        "writer = SummaryWriter(log_dir='runs')\n",
        "writer.add_graph(model,X_test)\n",
        "writer.close()\n",
        "%tensorboard --logdir runs"
      ],
      "execution_count": 12,
      "outputs": [
        {
          "output_type": "stream",
          "text": [
            "/usr/local/lib/python3.6/dist-packages/torch/jit/_trace.py:966: TracerWarning: Trace had nondeterministic nodes. Did you forget call .eval() on your model? Nodes:\n",
            "\t%hx : Float(1:13420, 671:20, 20:1, requires_grad=0, device=cpu) = aten::randn(%25, %26, %27, %28, %29) # <ipython-input-8-6139982eba22>:17:0\n",
            "This may cause errors in trace checking. To disable trace checking, pass check_trace=False to torch.jit.trace()\n",
            "  _module_class,\n",
            "/usr/local/lib/python3.6/dist-packages/torch/jit/_trace.py:966: TracerWarning: Output nr 1. of the traced function does not match the corresponding output of the Python function. Detailed error:\n",
            "With rtol=1e-05 and atol=1e-05, found 3355 element(s) (out of 3355) whose difference(s) exceeded the margin of error (including 0 nan comparisons). The greatest difference was 1.2629207372665405 (0.6792698502540588 vs. -0.5836508870124817), which occurred at index (80, 0).\n",
            "  _module_class,\n"
          ],
          "name": "stderr"
        },
        {
          "output_type": "display_data",
          "data": {
            "text/plain": [
              "Reusing TensorBoard on port 6006 (pid 382), started 0:17:35 ago. (Use '!kill 382' to kill it.)"
            ]
          },
          "metadata": {
            "tags": []
          }
        },
        {
          "output_type": "display_data",
          "data": {
            "application/javascript": [
              "\n",
              "        (async () => {\n",
              "            const url = new URL(await google.colab.kernel.proxyPort(6006, {'cache': true}));\n",
              "            url.searchParams.set('tensorboardColab', 'true');\n",
              "            const iframe = document.createElement('iframe');\n",
              "            iframe.src = url;\n",
              "            iframe.setAttribute('width', '100%');\n",
              "            iframe.setAttribute('height', '800');\n",
              "            iframe.setAttribute('frameborder', 0);\n",
              "            document.body.appendChild(iframe);\n",
              "        })();\n",
              "    "
            ],
            "text/plain": [
              "<IPython.core.display.Javascript object>"
            ]
          },
          "metadata": {
            "tags": []
          }
        }
      ]
    },
    {
      "cell_type": "markdown",
      "metadata": {
        "id": "rwuOf9O2nc50"
      },
      "source": [
        "# optimizer and loss_fn"
      ]
    },
    {
      "cell_type": "code",
      "metadata": {
        "id": "HYSzTE9Yl01X",
        "colab": {
          "base_uri": "https://localhost:8080/"
        },
        "outputId": "9f97e0e9-a3f8-4be9-8c0a-57fbc82df53b"
      },
      "source": [
        "adaptive = robust_loss_pytorch.adaptive.AdaptiveLossFunction(num_dims=Y.shape[1],float_dtype=np.float32,device='cpu')\n",
        "params = list(model.parameters()) #+ list(adaptive.parameters())\n",
        "optimizer = torch.optim.Adam(params,lr=0.01)\n",
        "#loss_fn = lambda y_i,y:torch.mean(adaptive.lossfun((y_i - y)))\n",
        "loss_fn = lambda y_i,y:((y_i-y)**2).mean()\n",
        "loss_fn(model(X_test),Y_test)"
      ],
      "execution_count": 13,
      "outputs": [
        {
          "output_type": "execute_result",
          "data": {
            "text/plain": [
              "tensor(0.3389, grad_fn=<MeanBackward0>)"
            ]
          },
          "metadata": {
            "tags": []
          },
          "execution_count": 13
        }
      ]
    },
    {
      "cell_type": "markdown",
      "metadata": {
        "id": "Jvk7_ltNnmwB"
      },
      "source": [
        "# train loop"
      ]
    },
    {
      "cell_type": "code",
      "metadata": {
        "id": "yyheu8YBmyiL"
      },
      "source": [
        "def train(net,train_iter,valid_iter,loss_function,optimizer,num_epochs=100):\n",
        "    train_history = []\n",
        "    valid_history = []\n",
        "    best_loss = np.inf\n",
        "    best_net = None\n",
        "    \n",
        "    for epoch in range(num_epochs):\n",
        "        # train\n",
        "        net.train()\n",
        "        train_loss = 0\n",
        "        t = 0\n",
        "        for x,y in train_iter:\n",
        "            loss = loss_function(net(x),y)\n",
        "            # weight update\n",
        "            loss.backward()\n",
        "            optimizer.step()\n",
        "            optimizer.zero_grad()\n",
        "            # record loss\n",
        "            train_loss += loss.item()\n",
        "            t += 1\n",
        "        train_history.append(train_loss/t)\n",
        "        \n",
        "        # eval\n",
        "        net.eval()\n",
        "        valid_loss = 0\n",
        "        t = 0\n",
        "        for x,y in valid_iter:\n",
        "            loss = loss_function(net(x),y)\n",
        "            # record loss\n",
        "            valid_loss += loss.item()\n",
        "            t += 1\n",
        "        valid_history.append(valid_loss/t)\n",
        "        \n",
        "        # print the epoch loss\n",
        "        print(\"epochs {} train loss {:.4f} valid loss {:.4f}\".format(\n",
        "            epoch,train_history[-1],valid_history[-1]))\n",
        "        \n",
        "        # record best_net\n",
        "        if valid_history[-1] <= best_loss:\n",
        "            best_loss = valid_history[-1]\n",
        "            best_net = net\n",
        "            print('record net')\n",
        "    \n",
        "    # when end all epoch plot history\n",
        "    plt.plot(np.array(train_history),label='train')\n",
        "    plt.plot(np.array(valid_history),label='valid')\n",
        "    plt.title('loss history')\n",
        "    plt.legend()\n",
        "    plt.show()\n",
        "    \n",
        "    # return best_net\n",
        "    return best_net"
      ],
      "execution_count": 14,
      "outputs": []
    },
    {
      "cell_type": "code",
      "metadata": {
        "id": "cDQElUaFmyky",
        "colab": {
          "base_uri": "https://localhost:8080/",
          "height": 1000
        },
        "outputId": "005df243-4758-4686-f24f-67b38533cf14"
      },
      "source": [
        "model = train(model,train_iter,test_iter,loss_fn,optimizer,num_epochs=50)"
      ],
      "execution_count": 15,
      "outputs": [
        {
          "output_type": "stream",
          "text": [
            "epochs 0 train loss 0.8883 valid loss 0.0953\n",
            "record net\n",
            "epochs 1 train loss 0.5708 valid loss 0.0391\n",
            "record net\n",
            "epochs 2 train loss 0.4508 valid loss 0.0404\n",
            "epochs 3 train loss 0.3803 valid loss 0.0312\n",
            "record net\n",
            "epochs 4 train loss 0.3565 valid loss 0.0507\n",
            "epochs 5 train loss 0.3094 valid loss 0.0347\n",
            "epochs 6 train loss 0.2780 valid loss 0.0404\n",
            "epochs 7 train loss 0.2425 valid loss 0.0371\n",
            "epochs 8 train loss 0.2760 valid loss 0.0322\n",
            "epochs 9 train loss 0.2491 valid loss 0.0314\n",
            "epochs 10 train loss 0.2310 valid loss 0.0333\n",
            "epochs 11 train loss 0.2419 valid loss 0.0494\n",
            "epochs 12 train loss 0.2326 valid loss 0.0357\n",
            "epochs 13 train loss 0.2103 valid loss 0.0230\n",
            "record net\n",
            "epochs 14 train loss 0.2077 valid loss 0.0233\n",
            "epochs 15 train loss 0.2024 valid loss 0.0617\n",
            "epochs 16 train loss 0.2538 valid loss 0.0356\n",
            "epochs 17 train loss 0.2334 valid loss 0.0279\n",
            "epochs 18 train loss 0.1995 valid loss 0.0207\n",
            "record net\n",
            "epochs 19 train loss 0.1700 valid loss 0.0250\n",
            "epochs 20 train loss 0.1681 valid loss 0.0247\n",
            "epochs 21 train loss 0.1835 valid loss 0.0278\n",
            "epochs 22 train loss 0.1781 valid loss 0.0316\n",
            "epochs 23 train loss 0.1480 valid loss 0.0239\n",
            "epochs 24 train loss 0.1372 valid loss 0.0195\n",
            "record net\n",
            "epochs 25 train loss 0.1320 valid loss 0.0108\n",
            "record net\n",
            "epochs 26 train loss 0.1251 valid loss 0.0174\n",
            "epochs 27 train loss 0.1113 valid loss 0.0230\n",
            "epochs 28 train loss 0.0988 valid loss 0.0138\n",
            "epochs 29 train loss 0.0953 valid loss 0.0174\n",
            "epochs 30 train loss 0.1368 valid loss 0.0429\n",
            "epochs 31 train loss 0.2552 valid loss 0.0501\n",
            "epochs 32 train loss 0.1651 valid loss 0.0307\n",
            "epochs 33 train loss 0.1313 valid loss 0.0145\n",
            "epochs 34 train loss 0.1123 valid loss 0.0122\n",
            "epochs 35 train loss 0.1178 valid loss 0.0193\n",
            "epochs 36 train loss 0.1218 valid loss 0.0386\n",
            "epochs 37 train loss 0.1215 valid loss 0.0156\n",
            "epochs 38 train loss 0.1029 valid loss 0.0236\n",
            "epochs 39 train loss 0.1656 valid loss 0.0321\n",
            "epochs 40 train loss 0.1047 valid loss 0.0186\n",
            "epochs 41 train loss 0.0854 valid loss 0.0136\n",
            "epochs 42 train loss 0.0828 valid loss 0.0119\n",
            "epochs 43 train loss 0.0936 valid loss 0.0134\n",
            "epochs 44 train loss 0.0870 valid loss 0.0159\n",
            "epochs 45 train loss 0.0929 valid loss 0.0313\n",
            "epochs 46 train loss 0.1344 valid loss 0.0376\n",
            "epochs 47 train loss 0.1008 valid loss 0.0221\n",
            "epochs 48 train loss 0.0960 valid loss 0.0185\n",
            "epochs 49 train loss 0.0813 valid loss 0.0111\n"
          ],
          "name": "stdout"
        },
        {
          "output_type": "display_data",
          "data": {
            "image/png": "[encoded data removed]",
            "text/plain": [
              "<Figure size 432x288 with 1 Axes>"
            ]
          },
          "metadata": {
            "tags": [],
            "needs_background": "light"
          }
        }
      ]
    },
    {
      "cell_type": "code",
      "metadata": {
        "id": "NTOqoRIBmZmH",
        "colab": {
          "base_uri": "https://localhost:8080/",
          "height": 195
        },
        "outputId": "f100d56c-9a5c-467f-c599-0bf7f3570ab9"
      },
      "source": [
        "y_pred = model(X_test).detach().cpu().numpy()\n",
        "y_pred = pd.DataFrame(y_pred,columns=y_col)\n",
        "y_pred.head()"
      ],
      "execution_count": 16,
      "outputs": [
        {
          "output_type": "execute_result",
          "data": {
            "text/html": [
              "<div>\n",
              "<style scoped>\n",
              "    .dataframe tbody tr th:only-of-type {\n",
              "        vertical-align: middle;\n",
              "    }\n",
              "\n",
              "    .dataframe tbody tr th {\n",
              "        vertical-align: top;\n",
              "    }\n",
              "\n",
              "    .dataframe thead th {\n",
              "        text-align: right;\n",
              "    }\n",
              "</style>\n",
              "<table border=\"1\" class=\"dataframe\">\n",
              "  <thead>\n",
              "    <tr style=\"text-align: right;\">\n",
              "      <th></th>\n",
              "      <th>大腸桿菌群</th>\n",
              "      <th>氨氮</th>\n",
              "      <th>總磷</th>\n",
              "      <th>砷</th>\n",
              "      <th>錳</th>\n",
              "    </tr>\n",
              "  </thead>\n",
              "  <tbody>\n",
              "    <tr>\n",
              "      <th>0</th>\n",
              "      <td>-0.1188</td>\n",
              "      <td>0.0378</td>\n",
              "      <td>-0.0901</td>\n",
              "      <td>0.2393</td>\n",
              "      <td>0.1696</td>\n",
              "    </tr>\n",
              "    <tr>\n",
              "      <th>1</th>\n",
              "      <td>0.0071</td>\n",
              "      <td>-0.6353</td>\n",
              "      <td>-0.6359</td>\n",
              "      <td>-0.4065</td>\n",
              "      <td>-0.2033</td>\n",
              "    </tr>\n",
              "    <tr>\n",
              "      <th>2</th>\n",
              "      <td>-0.2332</td>\n",
              "      <td>-0.6670</td>\n",
              "      <td>-0.7317</td>\n",
              "      <td>-0.2172</td>\n",
              "      <td>-0.1457</td>\n",
              "    </tr>\n",
              "    <tr>\n",
              "      <th>3</th>\n",
              "      <td>-0.0782</td>\n",
              "      <td>-0.5771</td>\n",
              "      <td>-0.6015</td>\n",
              "      <td>-0.4451</td>\n",
              "      <td>-0.2050</td>\n",
              "    </tr>\n",
              "    <tr>\n",
              "      <th>4</th>\n",
              "      <td>-0.2980</td>\n",
              "      <td>-0.7667</td>\n",
              "      <td>-0.7095</td>\n",
              "      <td>-0.3190</td>\n",
              "      <td>-0.3009</td>\n",
              "    </tr>\n",
              "  </tbody>\n",
              "</table>\n",
              "</div>"
            ],
            "text/plain": [
              "    大腸桿菌群      氨氮      總磷       砷       錳\n",
              "0 -0.1188  0.0378 -0.0901  0.2393  0.1696\n",
              "1  0.0071 -0.6353 -0.6359 -0.4065 -0.2033\n",
              "2 -0.2332 -0.6670 -0.7317 -0.2172 -0.1457\n",
              "3 -0.0782 -0.5771 -0.6015 -0.4451 -0.2050\n",
              "4 -0.2980 -0.7667 -0.7095 -0.3190 -0.3009"
            ]
          },
          "metadata": {
            "tags": []
          },
          "execution_count": 16
        }
      ]
    },
    {
      "cell_type": "code",
      "metadata": {
        "id": "IJ8sVK4roXZC",
        "colab": {
          "base_uri": "https://localhost:8080/",
          "height": 195
        },
        "outputId": "989bd49e-c151-4db7-8b19-ee6d5f98dff7"
      },
      "source": [
        "y_real = Y_test.detach().cpu().numpy()\n",
        "y_real = pd.DataFrame(y_real,columns=y_col)\n",
        "y_real.head()"
      ],
      "execution_count": 17,
      "outputs": [
        {
          "output_type": "execute_result",
          "data": {
            "text/html": [
              "<div>\n",
              "<style scoped>\n",
              "    .dataframe tbody tr th:only-of-type {\n",
              "        vertical-align: middle;\n",
              "    }\n",
              "\n",
              "    .dataframe tbody tr th {\n",
              "        vertical-align: top;\n",
              "    }\n",
              "\n",
              "    .dataframe thead th {\n",
              "        text-align: right;\n",
              "    }\n",
              "</style>\n",
              "<table border=\"1\" class=\"dataframe\">\n",
              "  <thead>\n",
              "    <tr style=\"text-align: right;\">\n",
              "      <th></th>\n",
              "      <th>大腸桿菌群</th>\n",
              "      <th>氨氮</th>\n",
              "      <th>總磷</th>\n",
              "      <th>砷</th>\n",
              "      <th>錳</th>\n",
              "    </tr>\n",
              "  </thead>\n",
              "  <tbody>\n",
              "    <tr>\n",
              "      <th>0</th>\n",
              "      <td>-0.0200</td>\n",
              "      <td>0.2692</td>\n",
              "      <td>-0.0049</td>\n",
              "      <td>0.1487</td>\n",
              "      <td>0.1250</td>\n",
              "    </tr>\n",
              "    <tr>\n",
              "      <th>1</th>\n",
              "      <td>-0.2348</td>\n",
              "      <td>-0.6948</td>\n",
              "      <td>-0.5299</td>\n",
              "      <td>-0.4790</td>\n",
              "      <td>-0.2726</td>\n",
              "    </tr>\n",
              "    <tr>\n",
              "      <th>2</th>\n",
              "      <td>-0.2335</td>\n",
              "      <td>-0.6948</td>\n",
              "      <td>-0.6719</td>\n",
              "      <td>-0.2698</td>\n",
              "      <td>-0.2137</td>\n",
              "    </tr>\n",
              "    <tr>\n",
              "      <th>3</th>\n",
              "      <td>-0.2257</td>\n",
              "      <td>-0.6948</td>\n",
              "      <td>-0.6818</td>\n",
              "      <td>-0.4267</td>\n",
              "      <td>-0.2689</td>\n",
              "    </tr>\n",
              "    <tr>\n",
              "      <th>4</th>\n",
              "      <td>-0.2351</td>\n",
              "      <td>-0.6895</td>\n",
              "      <td>-0.6752</td>\n",
              "      <td>-0.2175</td>\n",
              "      <td>-0.2578</td>\n",
              "    </tr>\n",
              "  </tbody>\n",
              "</table>\n",
              "</div>"
            ],
            "text/plain": [
              "    大腸桿菌群      氨氮      總磷       砷       錳\n",
              "0 -0.0200  0.2692 -0.0049  0.1487  0.1250\n",
              "1 -0.2348 -0.6948 -0.5299 -0.4790 -0.2726\n",
              "2 -0.2335 -0.6948 -0.6719 -0.2698 -0.2137\n",
              "3 -0.2257 -0.6948 -0.6818 -0.4267 -0.2689\n",
              "4 -0.2351 -0.6895 -0.6752 -0.2175 -0.2578"
            ]
          },
          "metadata": {
            "tags": []
          },
          "execution_count": 17
        }
      ]
    },
    {
      "cell_type": "markdown",
      "metadata": {
        "id": "Mn0aCmSWpLWc"
      },
      "source": [
        "# metric"
      ]
    },
    {
      "cell_type": "code",
      "metadata": {
        "id": "nme3ZOd7pNRC"
      },
      "source": [
        "from sklearn.metrics import r2_score,mean_squared_error\n",
        "\n",
        "def mape(y_true, y_pred): \n",
        "    y_true, y_pred = np.array(y_true), np.array(y_pred)\n",
        "    return np.mean(np.abs((y_true - y_pred) / y_true)) * 100"
      ],
      "execution_count": 18,
      "outputs": []
    },
    {
      "cell_type": "code",
      "metadata": {
        "id": "QKkH62oboeYA",
        "colab": {
          "base_uri": "https://localhost:8080/",
          "height": 225
        },
        "outputId": "dbdeca41-25d9-4433-a7f8-3d127425ccb9"
      },
      "source": [
        "res = pd.DataFrame(index=y_col,columns=['R2','MSE','MAPE'])\n",
        "\n",
        "for i in y_col:\n",
        "    res.loc[i,'R2'] = r2_score(y_real[i],y_pred[i])\n",
        "    res.loc[i,'MSE'] = mean_squared_error(y_real[i],y_pred[i])\n",
        "    res.loc[i,'MAPE'] = mape(y_real[i],y_pred[i])\n",
        "res.loc['AVG'] = res.mean(axis=0)\n",
        "res"
      ],
      "execution_count": 19,
      "outputs": [
        {
          "output_type": "execute_result",
          "data": {
            "text/html": [
              "<div>\n",
              "<style scoped>\n",
              "    .dataframe tbody tr th:only-of-type {\n",
              "        vertical-align: middle;\n",
              "    }\n",
              "\n",
              "    .dataframe tbody tr th {\n",
              "        vertical-align: top;\n",
              "    }\n",
              "\n",
              "    .dataframe thead th {\n",
              "        text-align: right;\n",
              "    }\n",
              "</style>\n",
              "<table border=\"1\" class=\"dataframe\">\n",
              "  <thead>\n",
              "    <tr style=\"text-align: right;\">\n",
              "      <th></th>\n",
              "      <th>R2</th>\n",
              "      <th>MSE</th>\n",
              "      <th>MAPE</th>\n",
              "    </tr>\n",
              "  </thead>\n",
              "  <tbody>\n",
              "    <tr>\n",
              "      <th>大腸桿菌群</th>\n",
              "      <td>0.9500</td>\n",
              "      <td>0.0139</td>\n",
              "      <td>61.0230</td>\n",
              "    </tr>\n",
              "    <tr>\n",
              "      <th>氨氮</th>\n",
              "      <td>0.9770</td>\n",
              "      <td>0.0122</td>\n",
              "      <td>64.0087</td>\n",
              "    </tr>\n",
              "    <tr>\n",
              "      <th>總磷</th>\n",
              "      <td>0.9643</td>\n",
              "      <td>0.0084</td>\n",
              "      <td>59.0066</td>\n",
              "    </tr>\n",
              "    <tr>\n",
              "      <th>砷</th>\n",
              "      <td>0.8972</td>\n",
              "      <td>0.0107</td>\n",
              "      <td>55.3959</td>\n",
              "    </tr>\n",
              "    <tr>\n",
              "      <th>錳</th>\n",
              "      <td>0.7838</td>\n",
              "      <td>0.0076</td>\n",
              "      <td>157.4739</td>\n",
              "    </tr>\n",
              "    <tr>\n",
              "      <th>AVG</th>\n",
              "      <td>0.9145</td>\n",
              "      <td>0.0106</td>\n",
              "      <td>79.3816</td>\n",
              "    </tr>\n",
              "  </tbody>\n",
              "</table>\n",
              "</div>"
            ],
            "text/plain": [
              "          R2    MSE     MAPE\n",
              "大腸桿菌群 0.9500 0.0139  61.0230\n",
              "氨氮    0.9770 0.0122  64.0087\n",
              "總磷    0.9643 0.0084  59.0066\n",
              "砷     0.8972 0.0107  55.3959\n",
              "錳     0.7838 0.0076 157.4739\n",
              "AVG   0.9145 0.0106  79.3816"
            ]
          },
          "metadata": {
            "tags": []
          },
          "execution_count": 19
        }
      ]
    },
    {
      "cell_type": "code",
      "metadata": {
        "id": "mWswn0C2pJ16",
        "colab": {
          "base_uri": "https://localhost:8080/"
        },
        "outputId": "15c831fe-1109-48fe-f47a-a6c269c6b77a"
      },
      "source": [
        "for i in adaptive.named_parameters():\n",
        "  print(i)"
      ],
      "execution_count": 20,
      "outputs": [
        {
          "output_type": "stream",
          "text": [
            "('latent_alpha', Parameter containing:\n",
            "tensor([[2.3842e-07, 2.3842e-07, 2.3842e-07, 2.3842e-07, 2.3842e-07]],\n",
            "       requires_grad=True))\n",
            "('latent_scale', Parameter containing:\n",
            "tensor([[0., 0., 0., 0., 0.]], requires_grad=True))\n"
          ],
          "name": "stdout"
        }
      ]
    },
    {
      "cell_type": "code",
      "metadata": {
        "id": "lmxs5wRwsdgW",
        "colab": {
          "base_uri": "https://localhost:8080/",
          "height": 1000
        },
        "outputId": "500f4d2a-82c9-4bc2-c36a-67a2ae87bf84"
      },
      "source": [
        "import matplotlib.pyplot as plt\n",
        "for name in y_pred.columns:\n",
        "  print(name)\n",
        "  plt.scatter(y_pred[name].index,y_pred[name],label='pred')\n",
        "  plt.scatter(y_real[name].index,y_real[name],label='real')\n",
        "  plt.legend()\n",
        "  plt.show()"
      ],
      "execution_count": 21,
      "outputs": [
        {
          "output_type": "stream",
          "text": [
            "大腸桿菌群\n"
          ],
          "name": "stdout"
        },
        {
          "output_type": "display_data",
          "data": {
            "image/png": "[encoded data removed]",
            "text/plain": [
              "<Figure size 432x288 with 1 Axes>"
            ]
          },
          "metadata": {
            "tags": [],
            "needs_background": "light"
          }
        },
        {
          "output_type": "stream",
          "text": [
            "氨氮\n"
          ],
          "name": "stdout"
        },
        {
          "output_type": "display_data",
          "data": {
            "image/png": "[encoded data removed]",
            "text/plain": [
              "<Figure size 432x288 with 1 Axes>"
            ]
          },
          "metadata": {
            "tags": [],
            "needs_background": "light"
          }
        },
        {
          "output_type": "stream",
          "text": [
            "總磷\n"
          ],
          "name": "stdout"
        },
        {
          "output_type": "display_data",
          "data": {
            "image/png": "[encoded data removed]",
            "text/plain": [
              "<Figure size 432x288 with 1 Axes>"
            ]
          },
          "metadata": {
            "tags": [],
            "needs_background": "light"
          }
        },
        {
          "output_type": "stream",
          "text": [
            "砷\n"
          ],
          "name": "stdout"
        },
        {
          "output_type": "display_data",
          "data": {
            "image/png": "[encoded data removed]",
            "text/plain": [
              "<Figure size 432x288 with 1 Axes>"
            ]
          },
          "metadata": {
            "tags": [],
            "needs_background": "light"
          }
        },
        {
          "output_type": "stream",
          "text": [
            "錳\n"
          ],
          "name": "stdout"
        },
        {
          "output_type": "display_data",
          "data": {
            "image/png": "[encoded data removed]",
            "text/plain": [
              "<Figure size 432x288 with 1 Axes>"
            ]
          },
          "metadata": {
            "tags": [],
            "needs_background": "light"
          }
        }
      ]
    },
    {
      "cell_type": "code",
      "metadata": {
        "id": "HieFXnr-JKcE"
      },
      "source": [
        ""
      ],
      "execution_count": 21,
      "outputs": []
    }
  ]
}