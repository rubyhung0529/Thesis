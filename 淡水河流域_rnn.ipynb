{
  "nbformat": 4,
  "nbformat_minor": 0,
  "metadata": {
    "colab": {
      "name": "淡水河流域_rnn.ipynb",
      "provenance": [],
      "collapsed_sections": [],
      "include_colab_link": true
    },
    "kernelspec": {
      "name": "python3",
      "display_name": "Python 3"
    },
    "accelerator": "GPU"
  },
  "cells": [
    {
      "cell_type": "markdown",
      "metadata": {
        "id": "view-in-github",
        "colab_type": "text"
      },
      "source": [
        "<a href=\"https://colab.research.google.com/github/rubyhung0529/Thesis/blob/main/%E6%B7%A1%E6%B0%B4%E6%B2%B3%E6%B5%81%E5%9F%9F_rnn.ipynb\" target=\"_parent\"><img src=\"https://colab.research.google.com/assets/colab-badge.svg\" alt=\"Open In Colab\"/></a>"
      ]
    },
    {
      "cell_type": "code",
      "metadata": {
        "id": "PSrXCKSmimVs",
        "colab": {
          "base_uri": "https://localhost:8080/"
        },
        "outputId": "350547af-1799-4b8c-8ef2-afbd55ffee9b"
      },
      "source": [
        "from google.colab import drive\n",
        "import pandas as pd\n",
        "import numpy as np\n",
        "import random\n",
        "from tqdm import tqdm_notebook as tqdm\n",
        "import torch\n",
        "pd.options.display.float_format = '{:.4f}'.format#評分分數不要科學記號,到小數點後三位\n",
        "drive.mount('/content/drive')\n",
        "np.random.seed(31)\n",
        "random.seed(31)\n",
        "torch.manual_seed(31)"
      ],
      "execution_count": 1,
      "outputs": [
        {
          "output_type": "stream",
          "text": [
            "Drive already mounted at /content/drive; to attempt to forcibly remount, call drive.mount(\"/content/drive\", force_remount=True).\n"
          ],
          "name": "stdout"
        },
        {
          "output_type": "execute_result",
          "data": {
            "text/plain": [
              "<torch._C.Generator at 0x7f4047379cf0>"
            ]
          },
          "metadata": {
            "tags": []
          },
          "execution_count": 1
        }
      ]
    },
    {
      "cell_type": "code",
      "metadata": {
        "id": "dcrn3RzXiuRx",
        "colab": {
          "base_uri": "https://localhost:8080/",
          "height": 337
        },
        "outputId": "3c368517-1e3b-482d-bc89-21b3c4072b79"
      },
      "source": [
        "full = pd.read_csv('/content/drive/My Drive/碩士論文資料/淡水河流域_cleaned(full).csv').sort_values(by='採樣日期')\n",
        "full = pd.DataFrame(full)\n",
        "print(full.shape)\n",
        "full.head()"
      ],
      "execution_count": 2,
      "outputs": [
        {
          "output_type": "stream",
          "text": [
            "(2239, 24)\n"
          ],
          "name": "stdout"
        },
        {
          "output_type": "execute_result",
          "data": {
            "text/html": [
              "<div>\n",
              "<style scoped>\n",
              "    .dataframe tbody tr th:only-of-type {\n",
              "        vertical-align: middle;\n",
              "    }\n",
              "\n",
              "    .dataframe tbody tr th {\n",
              "        vertical-align: top;\n",
              "    }\n",
              "\n",
              "    .dataframe thead th {\n",
              "        text-align: right;\n",
              "    }\n",
              "</style>\n",
              "<table border=\"1\" class=\"dataframe\">\n",
              "  <thead>\n",
              "    <tr style=\"text-align: right;\">\n",
              "      <th></th>\n",
              "      <th>測站名稱</th>\n",
              "      <th>採樣日期</th>\n",
              "      <th>河川污染指數</th>\n",
              "      <th>氣溫</th>\n",
              "      <th>水溫</th>\n",
              "      <th>酸鹼值</th>\n",
              "      <th>導電度</th>\n",
              "      <th>溶氧(電極法)</th>\n",
              "      <th>溶氧飽和度</th>\n",
              "      <th>生化需氧量</th>\n",
              "      <th>化學需氧量</th>\n",
              "      <th>懸浮固體</th>\n",
              "      <th>大腸桿菌群</th>\n",
              "      <th>氨氮</th>\n",
              "      <th>總磷</th>\n",
              "      <th>硝酸鹽氮</th>\n",
              "      <th>鎘</th>\n",
              "      <th>鉛</th>\n",
              "      <th>六價鉻</th>\n",
              "      <th>砷</th>\n",
              "      <th>汞</th>\n",
              "      <th>銅</th>\n",
              "      <th>鋅</th>\n",
              "      <th>錳</th>\n",
              "    </tr>\n",
              "  </thead>\n",
              "  <tbody>\n",
              "    <tr>\n",
              "      <th>998</th>\n",
              "      <td>板新取水口</td>\n",
              "      <td>2005-03-01 01:30:00</td>\n",
              "      <td>2.3000</td>\n",
              "      <td>13.2000</td>\n",
              "      <td>14.1000</td>\n",
              "      <td>8.1000</td>\n",
              "      <td>247.0000</td>\n",
              "      <td>10.0000</td>\n",
              "      <td>97.5000</td>\n",
              "      <td>1.0000</td>\n",
              "      <td>5.5000</td>\n",
              "      <td>54.3000</td>\n",
              "      <td>4200.0000</td>\n",
              "      <td>0.1100</td>\n",
              "      <td>0.0270</td>\n",
              "      <td>0.5400</td>\n",
              "      <td>0.0010</td>\n",
              "      <td>0.0330</td>\n",
              "      <td>0.0060</td>\n",
              "      <td>0.0012</td>\n",
              "      <td>0.0005</td>\n",
              "      <td>0.0050</td>\n",
              "      <td>0.0210</td>\n",
              "      <td>0.1220</td>\n",
              "    </tr>\n",
              "    <tr>\n",
              "      <th>921</th>\n",
              "      <td>暖江橋</td>\n",
              "      <td>2005-03-01 01:44:00</td>\n",
              "      <td>1.5000</td>\n",
              "      <td>17.5000</td>\n",
              "      <td>16.4000</td>\n",
              "      <td>6.6000</td>\n",
              "      <td>144.0000</td>\n",
              "      <td>10.8000</td>\n",
              "      <td>109.8000</td>\n",
              "      <td>2.0000</td>\n",
              "      <td>6.6000</td>\n",
              "      <td>42.1000</td>\n",
              "      <td>17000.0000</td>\n",
              "      <td>0.3500</td>\n",
              "      <td>0.0160</td>\n",
              "      <td>0.7600</td>\n",
              "      <td>0.0010</td>\n",
              "      <td>0.0120</td>\n",
              "      <td>0.0060</td>\n",
              "      <td>0.0014</td>\n",
              "      <td>0.0005</td>\n",
              "      <td>0.0050</td>\n",
              "      <td>0.0790</td>\n",
              "      <td>0.0790</td>\n",
              "    </tr>\n",
              "    <tr>\n",
              "      <th>1001</th>\n",
              "      <td>三鶯大橋</td>\n",
              "      <td>2005-03-01 02:20:00</td>\n",
              "      <td>2.3000</td>\n",
              "      <td>13.0000</td>\n",
              "      <td>14.9000</td>\n",
              "      <td>8.0000</td>\n",
              "      <td>201.0000</td>\n",
              "      <td>10.0000</td>\n",
              "      <td>99.5000</td>\n",
              "      <td>1.0000</td>\n",
              "      <td>4.8000</td>\n",
              "      <td>58.9000</td>\n",
              "      <td>2200.0000</td>\n",
              "      <td>0.0800</td>\n",
              "      <td>0.0140</td>\n",
              "      <td>0.5200</td>\n",
              "      <td>0.0010</td>\n",
              "      <td>0.0140</td>\n",
              "      <td>0.0040</td>\n",
              "      <td>0.0009</td>\n",
              "      <td>0.0003</td>\n",
              "      <td>0.0050</td>\n",
              "      <td>0.0300</td>\n",
              "      <td>0.1190</td>\n",
              "    </tr>\n",
              "    <tr>\n",
              "      <th>924</th>\n",
              "      <td>六合橋</td>\n",
              "      <td>2005-03-01 02:36:00</td>\n",
              "      <td>2.3000</td>\n",
              "      <td>16.5000</td>\n",
              "      <td>15.9000</td>\n",
              "      <td>6.4000</td>\n",
              "      <td>266.0000</td>\n",
              "      <td>10.0000</td>\n",
              "      <td>100.9000</td>\n",
              "      <td>2.3000</td>\n",
              "      <td>11.6000</td>\n",
              "      <td>92.2000</td>\n",
              "      <td>43000.0000</td>\n",
              "      <td>0.3600</td>\n",
              "      <td>0.0190</td>\n",
              "      <td>0.9700</td>\n",
              "      <td>0.0010</td>\n",
              "      <td>0.0170</td>\n",
              "      <td>0.0030</td>\n",
              "      <td>0.0010</td>\n",
              "      <td>0.0013</td>\n",
              "      <td>0.0090</td>\n",
              "      <td>0.0610</td>\n",
              "      <td>0.1390</td>\n",
              "    </tr>\n",
              "    <tr>\n",
              "      <th>987</th>\n",
              "      <td>三峽河抽水站(取代醒心橋)</td>\n",
              "      <td>2005-03-01 03:10:00</td>\n",
              "      <td>1.0000</td>\n",
              "      <td>12.5000</td>\n",
              "      <td>14.4000</td>\n",
              "      <td>7.5000</td>\n",
              "      <td>113.0000</td>\n",
              "      <td>10.1000</td>\n",
              "      <td>98.9000</td>\n",
              "      <td>1.0000</td>\n",
              "      <td>5.6000</td>\n",
              "      <td>16.6000</td>\n",
              "      <td>2400.0000</td>\n",
              "      <td>0.0800</td>\n",
              "      <td>0.0140</td>\n",
              "      <td>1.1400</td>\n",
              "      <td>0.0010</td>\n",
              "      <td>0.0100</td>\n",
              "      <td>0.0070</td>\n",
              "      <td>0.0013</td>\n",
              "      <td>0.0011</td>\n",
              "      <td>0.0030</td>\n",
              "      <td>0.0290</td>\n",
              "      <td>0.0420</td>\n",
              "    </tr>\n",
              "  </tbody>\n",
              "</table>\n",
              "</div>"
            ],
            "text/plain": [
              "               測站名稱                 採樣日期  河川污染指數  ...      銅      鋅      錳\n",
              "998           板新取水口  2005-03-01 01:30:00  2.3000  ... 0.0050 0.0210 0.1220\n",
              "921             暖江橋  2005-03-01 01:44:00  1.5000  ... 0.0050 0.0790 0.0790\n",
              "1001           三鶯大橋  2005-03-01 02:20:00  2.3000  ... 0.0050 0.0300 0.1190\n",
              "924             六合橋  2005-03-01 02:36:00  2.3000  ... 0.0090 0.0610 0.1390\n",
              "987   三峽河抽水站(取代醒心橋)  2005-03-01 03:10:00  1.0000  ... 0.0030 0.0290 0.0420\n",
              "\n",
              "[5 rows x 24 columns]"
            ]
          },
          "metadata": {
            "tags": []
          },
          "execution_count": 2
        }
      ]
    },
    {
      "cell_type": "markdown",
      "metadata": {
        "id": "Wfju7O_8jOR5"
      },
      "source": [
        "# define X,y"
      ]
    },
    {
      "cell_type": "code",
      "metadata": {
        "id": "-Xmer8o-iz8O",
        "colab": {
          "base_uri": "https://localhost:8080/"
        },
        "outputId": "ba57e592-7156-4016-b21e-c2712c482be2"
      },
      "source": [
        "col = full.columns.tolist()\n",
        "x_col = col[2:12]\n",
        "y_col = ['大腸桿菌群','氨氮','總磷','砷','錳']\n",
        "x_col,y_col"
      ],
      "execution_count": 3,
      "outputs": [
        {
          "output_type": "execute_result",
          "data": {
            "text/plain": [
              "(['河川污染指數',\n",
              "  '氣溫',\n",
              "  '水溫',\n",
              "  '酸鹼值',\n",
              "  '導電度',\n",
              "  '溶氧(電極法)',\n",
              "  '溶氧飽和度',\n",
              "  '生化需氧量',\n",
              "  '化學需氧量',\n",
              "  '懸浮固體'],\n",
              " ['大腸桿菌群', '氨氮', '總磷', '砷', '錳'])"
            ]
          },
          "metadata": {
            "tags": []
          },
          "execution_count": 3
        }
      ]
    },
    {
      "cell_type": "markdown",
      "metadata": {
        "id": "rDSxyJjFjMWA"
      },
      "source": [
        "# scaled"
      ]
    },
    {
      "cell_type": "code",
      "metadata": {
        "id": "BPxb7dKKi5h1",
        "colab": {
          "base_uri": "https://localhost:8080/",
          "height": 302
        },
        "outputId": "a876233c-d6d4-4a92-f0a6-57ccf9226ad7"
      },
      "source": [
        "from sklearn.preprocessing import StandardScaler\n",
        "ss_x = StandardScaler()\n",
        "ss_y = StandardScaler()\n",
        "full[x_col] = ss_x.fit_transform(full[x_col])\n",
        "full[y_col] = ss_y.fit_transform(full[y_col])\n",
        "full.head()"
      ],
      "execution_count": 4,
      "outputs": [
        {
          "output_type": "execute_result",
          "data": {
            "text/html": [
              "<div>\n",
              "<style scoped>\n",
              "    .dataframe tbody tr th:only-of-type {\n",
              "        vertical-align: middle;\n",
              "    }\n",
              "\n",
              "    .dataframe tbody tr th {\n",
              "        vertical-align: top;\n",
              "    }\n",
              "\n",
              "    .dataframe thead th {\n",
              "        text-align: right;\n",
              "    }\n",
              "</style>\n",
              "<table border=\"1\" class=\"dataframe\">\n",
              "  <thead>\n",
              "    <tr style=\"text-align: right;\">\n",
              "      <th></th>\n",
              "      <th>測站名稱</th>\n",
              "      <th>採樣日期</th>\n",
              "      <th>河川污染指數</th>\n",
              "      <th>氣溫</th>\n",
              "      <th>水溫</th>\n",
              "      <th>酸鹼值</th>\n",
              "      <th>導電度</th>\n",
              "      <th>溶氧(電極法)</th>\n",
              "      <th>溶氧飽和度</th>\n",
              "      <th>生化需氧量</th>\n",
              "      <th>化學需氧量</th>\n",
              "      <th>懸浮固體</th>\n",
              "      <th>大腸桿菌群</th>\n",
              "      <th>氨氮</th>\n",
              "      <th>總磷</th>\n",
              "      <th>硝酸鹽氮</th>\n",
              "      <th>鎘</th>\n",
              "      <th>鉛</th>\n",
              "      <th>六價鉻</th>\n",
              "      <th>砷</th>\n",
              "      <th>汞</th>\n",
              "      <th>銅</th>\n",
              "      <th>鋅</th>\n",
              "      <th>錳</th>\n",
              "    </tr>\n",
              "  </thead>\n",
              "  <tbody>\n",
              "    <tr>\n",
              "      <th>998</th>\n",
              "      <td>板新取水口</td>\n",
              "      <td>2005-03-01 01:30:00</td>\n",
              "      <td>-0.2499</td>\n",
              "      <td>-1.8174</td>\n",
              "      <td>-1.8293</td>\n",
              "      <td>1.3239</td>\n",
              "      <td>-0.2048</td>\n",
              "      <td>1.0956</td>\n",
              "      <td>0.5661</td>\n",
              "      <td>-0.4758</td>\n",
              "      <td>-0.4337</td>\n",
              "      <td>-0.0255</td>\n",
              "      <td>-0.2295</td>\n",
              "      <td>-0.6466</td>\n",
              "      <td>-0.6323</td>\n",
              "      <td>0.5400</td>\n",
              "      <td>0.0010</td>\n",
              "      <td>0.0330</td>\n",
              "      <td>0.0060</td>\n",
              "      <td>-0.0082</td>\n",
              "      <td>0.0005</td>\n",
              "      <td>0.0050</td>\n",
              "      <td>0.0210</td>\n",
              "      <td>0.1103</td>\n",
              "    </tr>\n",
              "    <tr>\n",
              "      <th>921</th>\n",
              "      <td>暖江橋</td>\n",
              "      <td>2005-03-01 01:44:00</td>\n",
              "      <td>-0.6494</td>\n",
              "      <td>-1.1234</td>\n",
              "      <td>-1.3416</td>\n",
              "      <td>-2.2729</td>\n",
              "      <td>-0.2246</td>\n",
              "      <td>1.3649</td>\n",
              "      <td>0.9272</td>\n",
              "      <td>-0.2630</td>\n",
              "      <td>-0.3640</td>\n",
              "      <td>-0.0472</td>\n",
              "      <td>-0.2123</td>\n",
              "      <td>-0.5181</td>\n",
              "      <td>-0.6686</td>\n",
              "      <td>0.7600</td>\n",
              "      <td>0.0010</td>\n",
              "      <td>0.0120</td>\n",
              "      <td>0.0060</td>\n",
              "      <td>0.0964</td>\n",
              "      <td>0.0005</td>\n",
              "      <td>0.0050</td>\n",
              "      <td>0.0790</td>\n",
              "      <td>-0.0480</td>\n",
              "    </tr>\n",
              "    <tr>\n",
              "      <th>1001</th>\n",
              "      <td>三鶯大橋</td>\n",
              "      <td>2005-03-01 02:20:00</td>\n",
              "      <td>-0.2499</td>\n",
              "      <td>-1.8497</td>\n",
              "      <td>-1.6596</td>\n",
              "      <td>1.0841</td>\n",
              "      <td>-0.2137</td>\n",
              "      <td>1.0956</td>\n",
              "      <td>0.6248</td>\n",
              "      <td>-0.4758</td>\n",
              "      <td>-0.4780</td>\n",
              "      <td>-0.0173</td>\n",
              "      <td>-0.2322</td>\n",
              "      <td>-0.6627</td>\n",
              "      <td>-0.6752</td>\n",
              "      <td>0.5200</td>\n",
              "      <td>0.0010</td>\n",
              "      <td>0.0140</td>\n",
              "      <td>0.0040</td>\n",
              "      <td>-0.1652</td>\n",
              "      <td>0.0003</td>\n",
              "      <td>0.0050</td>\n",
              "      <td>0.0300</td>\n",
              "      <td>0.0992</td>\n",
              "    </tr>\n",
              "    <tr>\n",
              "      <th>924</th>\n",
              "      <td>六合橋</td>\n",
              "      <td>2005-03-01 02:36:00</td>\n",
              "      <td>-0.2499</td>\n",
              "      <td>-1.2848</td>\n",
              "      <td>-1.4476</td>\n",
              "      <td>-2.7525</td>\n",
              "      <td>-0.2011</td>\n",
              "      <td>1.0956</td>\n",
              "      <td>0.6659</td>\n",
              "      <td>-0.1992</td>\n",
              "      <td>-0.0473</td>\n",
              "      <td>0.0418</td>\n",
              "      <td>-0.1773</td>\n",
              "      <td>-0.5127</td>\n",
              "      <td>-0.6587</td>\n",
              "      <td>0.9700</td>\n",
              "      <td>0.0010</td>\n",
              "      <td>0.0170</td>\n",
              "      <td>0.0030</td>\n",
              "      <td>-0.1129</td>\n",
              "      <td>0.0013</td>\n",
              "      <td>0.0090</td>\n",
              "      <td>0.0610</td>\n",
              "      <td>0.1729</td>\n",
              "    </tr>\n",
              "    <tr>\n",
              "      <th>987</th>\n",
              "      <td>三峽河抽水站(取代醒心橋)</td>\n",
              "      <td>2005-03-01 03:10:00</td>\n",
              "      <td>-0.8991</td>\n",
              "      <td>-1.9304</td>\n",
              "      <td>-1.7657</td>\n",
              "      <td>-0.1148</td>\n",
              "      <td>-0.2306</td>\n",
              "      <td>1.1292</td>\n",
              "      <td>0.6072</td>\n",
              "      <td>-0.4758</td>\n",
              "      <td>-0.4273</td>\n",
              "      <td>-0.0925</td>\n",
              "      <td>-0.2319</td>\n",
              "      <td>-0.6627</td>\n",
              "      <td>-0.6752</td>\n",
              "      <td>1.1400</td>\n",
              "      <td>0.0010</td>\n",
              "      <td>0.0100</td>\n",
              "      <td>0.0070</td>\n",
              "      <td>0.0441</td>\n",
              "      <td>0.0011</td>\n",
              "      <td>0.0030</td>\n",
              "      <td>0.0290</td>\n",
              "      <td>-0.1842</td>\n",
              "    </tr>\n",
              "  </tbody>\n",
              "</table>\n",
              "</div>"
            ],
            "text/plain": [
              "               測站名稱                 採樣日期  河川污染指數  ...      銅      鋅       錳\n",
              "998           板新取水口  2005-03-01 01:30:00 -0.2499  ... 0.0050 0.0210  0.1103\n",
              "921             暖江橋  2005-03-01 01:44:00 -0.6494  ... 0.0050 0.0790 -0.0480\n",
              "1001           三鶯大橋  2005-03-01 02:20:00 -0.2499  ... 0.0050 0.0300  0.0992\n",
              "924             六合橋  2005-03-01 02:36:00 -0.2499  ... 0.0090 0.0610  0.1729\n",
              "987   三峽河抽水站(取代醒心橋)  2005-03-01 03:10:00 -0.8991  ... 0.0030 0.0290 -0.1842\n",
              "\n",
              "[5 rows x 24 columns]"
            ]
          },
          "metadata": {
            "tags": []
          },
          "execution_count": 4
        }
      ]
    },
    {
      "cell_type": "markdown",
      "metadata": {
        "id": "SbYdU92DjWnk"
      },
      "source": [
        "# define model"
      ]
    },
    {
      "cell_type": "code",
      "metadata": {
        "id": "eBBpswdlkEP8"
      },
      "source": [
        "import torch\n",
        "import torch.nn as nn\n",
        "import torch.nn.functional as F\n",
        "import torch.optim as optim\n",
        "import matplotlib.pyplot as plt"
      ],
      "execution_count": 5,
      "outputs": []
    },
    {
      "cell_type": "code",
      "metadata": {
        "id": "DTq4clWMjInW"
      },
      "source": [
        "class Net(nn.Module):\n",
        "  def __init__(self,x_size,y_size):\n",
        "    super().__init__()\n",
        "    \n",
        "    # hyperparamters\n",
        "    self.h_size = 20\n",
        "    self.num_layers = 1\n",
        "    self.num_directions = 1\n",
        "    self.seq_len = 3\n",
        "    \n",
        "    # nets\n",
        "    self.rnn = nn.RNN(x_size,self.h_size,self.num_layers)#input_size,hidden_size,num_layers\n",
        "    self.lr = nn.Linear(self.h_size*self.seq_len,y_size)#input_size,output_size\n",
        "\n",
        "  def forward(self,x):\n",
        "    batch_size,seq_size,input_size = x.shape\n",
        "    h0 = torch.randn(self.num_layers*self.num_directions,batch_size,self.h_size)\n",
        "    x = x.reshape(seq_size,batch_size,input_size)#seq_len, batch, input_size\n",
        "    output,h_n = self.rnn(x,h0)\n",
        "    output = output.reshape(batch_size,-1)\n",
        "    output = self.lr(output)\n",
        "    return output"
      ],
      "execution_count": 6,
      "outputs": []
    },
    {
      "cell_type": "markdown",
      "metadata": {
        "id": "H5exV0K0lra3"
      },
      "source": [
        "# prepare data and forward test"
      ]
    },
    {
      "cell_type": "code",
      "metadata": {
        "id": "DxL2vMY00S7F",
        "colab": {
          "base_uri": "https://localhost:8080/"
        },
        "outputId": "1735fa29-83d6-4f68-fdfc-2c5d50f9a303"
      },
      "source": [
        "def create_inout_sequences(input_data,t):\n",
        "  x = []\n",
        "  y = []\n",
        "  for i in range(len(input_data)-t):\n",
        "    x.append(input_data.iloc[i:i+t][x_col+y_col].values)\n",
        "    y.append(input_data.iloc[[i+t-1]][y_col].values)\n",
        "  return np.array(x),np.array(y)\n",
        "\n",
        "x,y = create_inout_sequences(full,t=3)\n",
        "\n",
        "# batch_size,seq_size,feature_size\n",
        "x.shape,y.shape"
      ],
      "execution_count": 7,
      "outputs": [
        {
          "output_type": "execute_result",
          "data": {
            "text/plain": [
              "((2236, 3, 15), (2236, 1, 5))"
            ]
          },
          "metadata": {
            "tags": []
          },
          "execution_count": 7
        }
      ]
    },
    {
      "cell_type": "code",
      "metadata": {
        "id": "12mhpdlJjItS"
      },
      "source": [
        "X = torch.FloatTensor(x)\n",
        "Y = torch.FloatTensor(y).reshape(-1,len(y_col))\n",
        "sp = int(len(X)*0.7)\n",
        "X_train,X_test = X[:sp,:],X[sp:,:]\n",
        "Y_train,Y_test = Y[:sp,:],Y[sp:,:]\n",
        "train = torch.utils.data.TensorDataset(X_train,Y_train)\n",
        "train_iter = torch.utils.data.DataLoader(train, batch_size=32, shuffle=True)\n",
        "test = torch.utils.data.TensorDataset(X_test,Y_test)\n",
        "test_iter = torch.utils.data.DataLoader(test, batch_size=32, shuffle=True)"
      ],
      "execution_count": 8,
      "outputs": []
    },
    {
      "cell_type": "markdown",
      "metadata": {
        "id": "Jvk7_ltNnmwB"
      },
      "source": [
        "# train loop"
      ]
    },
    {
      "cell_type": "code",
      "metadata": {
        "id": "yyheu8YBmyiL"
      },
      "source": [
        "def train(net,train_iter,valid_iter,loss_function,optimizer,num_epochs=100):\n",
        "    train_history = []\n",
        "    valid_history = []\n",
        "    best_loss = np.inf\n",
        "    best_net = None\n",
        "    \n",
        "    for epoch in range(num_epochs):\n",
        "        # train\n",
        "        net.train()\n",
        "        train_loss = 0\n",
        "        t = 0\n",
        "        for x,y in train_iter:\n",
        "            loss = loss_function(net(x),y)\n",
        "            # weight update\n",
        "            loss.backward()\n",
        "            optimizer.step()\n",
        "            optimizer.zero_grad()\n",
        "            # record loss\n",
        "            train_loss += loss.item()\n",
        "            t += 1\n",
        "        train_history.append(train_loss/t)\n",
        "        \n",
        "        # eval\n",
        "        net.eval()\n",
        "        valid_loss = 0\n",
        "        t = 0\n",
        "        for x,y in valid_iter:\n",
        "            loss = loss_function(net(x),y)\n",
        "            # record loss\n",
        "            valid_loss += loss.item()\n",
        "            t += 1\n",
        "        valid_history.append(valid_loss/t)\n",
        "        \n",
        "        # print the epoch loss\n",
        "        #print(\"epochs {} train loss {:.4f} valid loss {:.4f}\".format(\n",
        "        #    epoch,train_history[-1],valid_history[-1]))\n",
        "        \n",
        "        # record best_net\n",
        "        if valid_history[-1] <= best_loss:\n",
        "            best_loss = valid_history[-1]\n",
        "            best_net = net\n",
        "            #print('record net')\n",
        "    \n",
        "    return best_net"
      ],
      "execution_count": 9,
      "outputs": []
    },
    {
      "cell_type": "code",
      "metadata": {
        "id": "YCLwICEx5EQk"
      },
      "source": [
        "from sklearn.metrics import r2_score,mean_squared_error\n",
        "\n",
        "def mape(y_true, y_pred): \n",
        "    y_true, y_pred = np.array(y_true), np.array(y_pred)\n",
        "    return np.mean(np.abs((y_true - y_pred) / y_true)) * 100"
      ],
      "execution_count": 10,
      "outputs": []
    },
    {
      "cell_type": "code",
      "metadata": {
        "colab": {
          "base_uri": "https://localhost:8080/"
        },
        "id": "wc9tqinajHN-",
        "outputId": "2697c01f-a782-496a-b5fe-846dd95c0ce6"
      },
      "source": [
        "model = Net(len(x_col+y_col),len(y_col))\r\n",
        "params = list(model.parameters())\r\n",
        "optimizer = torch.optim.Adam(params,lr=0.01)\r\n",
        "loss_fn = nn.MSELoss()\r\n",
        "model = train(model,train_iter,test_iter,loss_fn,optimizer,num_epochs=50)\r\n",
        "\r\n",
        "\r\n",
        "y_pred = model(X_test).detach().cpu().numpy()\r\n",
        "y_pred = pd.DataFrame(y_pred,columns=y_col)\r\n",
        "\r\n",
        "y_real = Y_test.detach().cpu().numpy()\r\n",
        "y_real = pd.DataFrame(y_real,columns=y_col)\r\n",
        "\r\n",
        "res = pd.DataFrame(index=y_col,columns=['R2','MSE','MAPE'])\r\n",
        "for i in y_col:\r\n",
        "  res.loc[i,'R2'] = r2_score(y_real[i],y_pred[i])\r\n",
        "  res.loc[i,'MSE'] = mean_squared_error(y_real[i],y_pred[i])\r\n",
        "  res.loc[i,'MAPE'] = mape(y_real[i],y_pred[i])\r\n",
        "res.loc['AVG'] = res.mean(axis=0)\r\n",
        "res,res.loc['AVG','MAPE']"
      ],
      "execution_count": 11,
      "outputs": [
        {
          "output_type": "execute_result",
          "data": {
            "text/plain": [
              "(          R2    MSE    MAPE\n",
              " 大腸桿菌群 0.9567 0.0121 53.2788\n",
              " 氨氮    0.9902 0.0052 29.0352\n",
              " 總磷    0.9402 0.0140 98.9354\n",
              " 砷     0.8827 0.0122 60.1126\n",
              " 錳     0.7975 0.0071 77.9733\n",
              " AVG   0.9134 0.0101 63.8671, 63.86707782745361)"
            ]
          },
          "metadata": {
            "tags": []
          },
          "execution_count": 11
        }
      ]
    },
    {
      "cell_type": "code",
      "metadata": {
        "colab": {
          "base_uri": "https://localhost:8080/",
          "height": 228
        },
        "id": "6RnpI3-zickT",
        "outputId": "34055f70-f265-49f9-9f59-d4ef46df551a"
      },
      "source": [
        "res"
      ],
      "execution_count": 12,
      "outputs": [
        {
          "output_type": "execute_result",
          "data": {
            "text/html": [
              "<div>\n",
              "<style scoped>\n",
              "    .dataframe tbody tr th:only-of-type {\n",
              "        vertical-align: middle;\n",
              "    }\n",
              "\n",
              "    .dataframe tbody tr th {\n",
              "        vertical-align: top;\n",
              "    }\n",
              "\n",
              "    .dataframe thead th {\n",
              "        text-align: right;\n",
              "    }\n",
              "</style>\n",
              "<table border=\"1\" class=\"dataframe\">\n",
              "  <thead>\n",
              "    <tr style=\"text-align: right;\">\n",
              "      <th></th>\n",
              "      <th>R2</th>\n",
              "      <th>MSE</th>\n",
              "      <th>MAPE</th>\n",
              "    </tr>\n",
              "  </thead>\n",
              "  <tbody>\n",
              "    <tr>\n",
              "      <th>大腸桿菌群</th>\n",
              "      <td>0.9567</td>\n",
              "      <td>0.0121</td>\n",
              "      <td>53.2788</td>\n",
              "    </tr>\n",
              "    <tr>\n",
              "      <th>氨氮</th>\n",
              "      <td>0.9902</td>\n",
              "      <td>0.0052</td>\n",
              "      <td>29.0352</td>\n",
              "    </tr>\n",
              "    <tr>\n",
              "      <th>總磷</th>\n",
              "      <td>0.9402</td>\n",
              "      <td>0.0140</td>\n",
              "      <td>98.9354</td>\n",
              "    </tr>\n",
              "    <tr>\n",
              "      <th>砷</th>\n",
              "      <td>0.8827</td>\n",
              "      <td>0.0122</td>\n",
              "      <td>60.1126</td>\n",
              "    </tr>\n",
              "    <tr>\n",
              "      <th>錳</th>\n",
              "      <td>0.7975</td>\n",
              "      <td>0.0071</td>\n",
              "      <td>77.9733</td>\n",
              "    </tr>\n",
              "    <tr>\n",
              "      <th>AVG</th>\n",
              "      <td>0.9134</td>\n",
              "      <td>0.0101</td>\n",
              "      <td>63.8671</td>\n",
              "    </tr>\n",
              "  </tbody>\n",
              "</table>\n",
              "</div>"
            ],
            "text/plain": [
              "          R2    MSE    MAPE\n",
              "大腸桿菌群 0.9567 0.0121 53.2788\n",
              "氨氮    0.9902 0.0052 29.0352\n",
              "總磷    0.9402 0.0140 98.9354\n",
              "砷     0.8827 0.0122 60.1126\n",
              "錳     0.7975 0.0071 77.9733\n",
              "AVG   0.9134 0.0101 63.8671"
            ]
          },
          "metadata": {
            "tags": []
          },
          "execution_count": 12
        }
      ]
    },
    {
      "cell_type": "code",
      "metadata": {
        "colab": {
          "base_uri": "https://localhost:8080/",
          "height": 1000
        },
        "id": "YfXVboE-jmiB",
        "outputId": "0e47dfec-a5f5-4b7e-ed30-aeb0dac6ce2e"
      },
      "source": [
        "import matplotlib.pyplot as plt\r\n",
        "for name in y_pred.columns:\r\n",
        "  print(name)\r\n",
        "  plt.scatter(y_pred[name].index,y_pred[name],label='pred')\r\n",
        "  plt.scatter(y_real[name].index,y_real[name],label='real')\r\n",
        "  plt.legend()\r\n",
        "  plt.show()"
      ],
      "execution_count": 13,
      "outputs": [
        {
          "output_type": "stream",
          "text": [
            "大腸桿菌群\n"
          ],
          "name": "stdout"
        },
        {
          "output_type": "display_data",
          "data": {
            "image/png": "[encoded data removed]",
            "text/plain": [
              "<Figure size 432x288 with 1 Axes>"
            ]
          },
          "metadata": {
            "tags": [],
            "needs_background": "light"
          }
        },
        {
          "output_type": "stream",
          "text": [
            "氨氮\n"
          ],
          "name": "stdout"
        },
        {
          "output_type": "display_data",
          "data": {
            "image/png": "[encoded data removed]",
            "text/plain": [
              "<Figure size 432x288 with 1 Axes>"
            ]
          },
          "metadata": {
            "tags": [],
            "needs_background": "light"
          }
        },
        {
          "output_type": "stream",
          "text": [
            "總磷\n"
          ],
          "name": "stdout"
        },
        {
          "output_type": "display_data",
          "data": {
            "image/png": "[encoded data removed]",
            "text/plain": [
              "<Figure size 432x288 with 1 Axes>"
            ]
          },
          "metadata": {
            "tags": [],
            "needs_background": "light"
          }
        },
        {
          "output_type": "stream",
          "text": [
            "砷\n"
          ],
          "name": "stdout"
        },
        {
          "output_type": "display_data",
          "data": {
            "image/png": "[encoded data removed]",
            "text/plain": [
              "<Figure size 432x288 with 1 Axes>"
            ]
          },
          "metadata": {
            "tags": [],
            "needs_background": "light"
          }
        },
        {
          "output_type": "stream",
          "text": [
            "錳\n"
          ],
          "name": "stdout"
        },
        {
          "output_type": "display_data",
          "data": {
            "image/png": "[encoded data removed]",
            "text/plain": [
              "<Figure size 432x288 with 1 Axes>"
            ]
          },
          "metadata": {
            "tags": [],
            "needs_background": "light"
          }
        }
      ]
    },
    {
      "cell_type": "code",
      "metadata": {
        "id": "KO-foUD8kQqS"
      },
      "source": [
        ""
      ],
      "execution_count": null,
      "outputs": []
    }
  ]
}